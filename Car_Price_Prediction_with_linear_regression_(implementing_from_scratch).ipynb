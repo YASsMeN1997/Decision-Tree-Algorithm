{
  "nbformat": 4,
  "nbformat_minor": 0,
  "metadata": {
    "colab": {
      "name": "Car_Price_Prediction with linear regression (implementing from scratch).ipynb",
      "provenance": [],
      "collapsed_sections": [],
      "authorship_tag": "ABX9TyONibsDFjTbLlRSvN2BcHY+",
      "include_colab_link": true
    },
    "kernelspec": {
      "name": "python3",
      "display_name": "Python 3"
    },
    "language_info": {
      "name": "python"
    }
  },
  "cells": [
    {
      "cell_type": "markdown",
      "metadata": {
        "id": "view-in-github",
        "colab_type": "text"
      },
      "source": [
        "<a href=\"https://colab.research.google.com/github/YASsMeN1997/Decision-Tree-Algorithm/blob/main/Car_Price_Prediction_with_linear_regression_(implementing_from_scratch).ipynb\" target=\"_parent\"><img src=\"https://colab.research.google.com/assets/colab-badge.svg\" alt=\"Open In Colab\"/></a>"
      ]
    },
    {
      "cell_type": "markdown",
      "source": [
        "Reading the data"
      ],
      "metadata": {
        "id": "VZJO1snBKq-0"
      }
    },
    {
      "cell_type": "code",
      "execution_count": 3,
      "metadata": {
        "id": "bOygcwlqIT3o",
        "colab": {
          "base_uri": "https://localhost:8080/"
        },
        "outputId": "8de43300-4669-4e18-d562-d3a124c591f8"
      },
      "outputs": [
        {
          "output_type": "stream",
          "name": "stdout",
          "text": [
            "fatal: destination path 'mlbookcamp-code' already exists and is not an empty directory.\n"
          ]
        }
      ],
      "source": [
        "!git clone https://github.com/alexeygrigorev/mlbookcamp-code\n"
      ]
    },
    {
      "cell_type": "markdown",
      "source": [
        "importing the independencies"
      ],
      "metadata": {
        "id": "sNMKod9dJPDh"
      }
    },
    {
      "cell_type": "code",
      "source": [
        "import numpy as np\n",
        "import pandas as pd\n",
        "import seaborn as sns\n",
        "from matplotlib import pyplot as plt"
      ],
      "metadata": {
        "id": "j8Qz_5d0I9ON"
      },
      "execution_count": 2,
      "outputs": []
    },
    {
      "cell_type": "code",
      "source": [
        "# reading the data from csv file as pandas data-frame\n",
        "car_data=pd.read_csv('/content/mlbookcamp-code/chapter-02-car-price/data.csv')"
      ],
      "metadata": {
        "id": "oxRJP1-_Kms6"
      },
      "execution_count": 4,
      "outputs": []
    },
    {
      "cell_type": "code",
      "source": [
        "# read frist 5 rows of our data\n",
        "car_data.head()"
      ],
      "metadata": {
        "colab": {
          "base_uri": "https://localhost:8080/",
          "height": 458
        },
        "id": "rys-hY4eK841",
        "outputId": "0f559059-0243-4cc4-cc42-fe50579f6fb1"
      },
      "execution_count": 5,
      "outputs": [
        {
          "output_type": "execute_result",
          "data": {
            "text/plain": [
              "  Make       Model  Year             Engine Fuel Type  Engine HP  \\\n",
              "0  BMW  1 Series M  2011  premium unleaded (required)      335.0   \n",
              "1  BMW    1 Series  2011  premium unleaded (required)      300.0   \n",
              "2  BMW    1 Series  2011  premium unleaded (required)      300.0   \n",
              "3  BMW    1 Series  2011  premium unleaded (required)      230.0   \n",
              "4  BMW    1 Series  2011  premium unleaded (required)      230.0   \n",
              "\n",
              "   Engine Cylinders Transmission Type     Driven_Wheels  Number of Doors  \\\n",
              "0               6.0            MANUAL  rear wheel drive              2.0   \n",
              "1               6.0            MANUAL  rear wheel drive              2.0   \n",
              "2               6.0            MANUAL  rear wheel drive              2.0   \n",
              "3               6.0            MANUAL  rear wheel drive              2.0   \n",
              "4               6.0            MANUAL  rear wheel drive              2.0   \n",
              "\n",
              "                         Market Category Vehicle Size Vehicle Style  \\\n",
              "0  Factory Tuner,Luxury,High-Performance      Compact         Coupe   \n",
              "1                     Luxury,Performance      Compact   Convertible   \n",
              "2                Luxury,High-Performance      Compact         Coupe   \n",
              "3                     Luxury,Performance      Compact         Coupe   \n",
              "4                                 Luxury      Compact   Convertible   \n",
              "\n",
              "   highway MPG  city mpg  Popularity   MSRP  \n",
              "0           26        19        3916  46135  \n",
              "1           28        19        3916  40650  \n",
              "2           28        20        3916  36350  \n",
              "3           28        18        3916  29450  \n",
              "4           28        18        3916  34500  "
            ],
            "text/html": [
              "\n",
              "  <div id=\"df-e524a22f-bb6c-44b3-9918-573eb73cd58c\">\n",
              "    <div class=\"colab-df-container\">\n",
              "      <div>\n",
              "<style scoped>\n",
              "    .dataframe tbody tr th:only-of-type {\n",
              "        vertical-align: middle;\n",
              "    }\n",
              "\n",
              "    .dataframe tbody tr th {\n",
              "        vertical-align: top;\n",
              "    }\n",
              "\n",
              "    .dataframe thead th {\n",
              "        text-align: right;\n",
              "    }\n",
              "</style>\n",
              "<table border=\"1\" class=\"dataframe\">\n",
              "  <thead>\n",
              "    <tr style=\"text-align: right;\">\n",
              "      <th></th>\n",
              "      <th>Make</th>\n",
              "      <th>Model</th>\n",
              "      <th>Year</th>\n",
              "      <th>Engine Fuel Type</th>\n",
              "      <th>Engine HP</th>\n",
              "      <th>Engine Cylinders</th>\n",
              "      <th>Transmission Type</th>\n",
              "      <th>Driven_Wheels</th>\n",
              "      <th>Number of Doors</th>\n",
              "      <th>Market Category</th>\n",
              "      <th>Vehicle Size</th>\n",
              "      <th>Vehicle Style</th>\n",
              "      <th>highway MPG</th>\n",
              "      <th>city mpg</th>\n",
              "      <th>Popularity</th>\n",
              "      <th>MSRP</th>\n",
              "    </tr>\n",
              "  </thead>\n",
              "  <tbody>\n",
              "    <tr>\n",
              "      <th>0</th>\n",
              "      <td>BMW</td>\n",
              "      <td>1 Series M</td>\n",
              "      <td>2011</td>\n",
              "      <td>premium unleaded (required)</td>\n",
              "      <td>335.0</td>\n",
              "      <td>6.0</td>\n",
              "      <td>MANUAL</td>\n",
              "      <td>rear wheel drive</td>\n",
              "      <td>2.0</td>\n",
              "      <td>Factory Tuner,Luxury,High-Performance</td>\n",
              "      <td>Compact</td>\n",
              "      <td>Coupe</td>\n",
              "      <td>26</td>\n",
              "      <td>19</td>\n",
              "      <td>3916</td>\n",
              "      <td>46135</td>\n",
              "    </tr>\n",
              "    <tr>\n",
              "      <th>1</th>\n",
              "      <td>BMW</td>\n",
              "      <td>1 Series</td>\n",
              "      <td>2011</td>\n",
              "      <td>premium unleaded (required)</td>\n",
              "      <td>300.0</td>\n",
              "      <td>6.0</td>\n",
              "      <td>MANUAL</td>\n",
              "      <td>rear wheel drive</td>\n",
              "      <td>2.0</td>\n",
              "      <td>Luxury,Performance</td>\n",
              "      <td>Compact</td>\n",
              "      <td>Convertible</td>\n",
              "      <td>28</td>\n",
              "      <td>19</td>\n",
              "      <td>3916</td>\n",
              "      <td>40650</td>\n",
              "    </tr>\n",
              "    <tr>\n",
              "      <th>2</th>\n",
              "      <td>BMW</td>\n",
              "      <td>1 Series</td>\n",
              "      <td>2011</td>\n",
              "      <td>premium unleaded (required)</td>\n",
              "      <td>300.0</td>\n",
              "      <td>6.0</td>\n",
              "      <td>MANUAL</td>\n",
              "      <td>rear wheel drive</td>\n",
              "      <td>2.0</td>\n",
              "      <td>Luxury,High-Performance</td>\n",
              "      <td>Compact</td>\n",
              "      <td>Coupe</td>\n",
              "      <td>28</td>\n",
              "      <td>20</td>\n",
              "      <td>3916</td>\n",
              "      <td>36350</td>\n",
              "    </tr>\n",
              "    <tr>\n",
              "      <th>3</th>\n",
              "      <td>BMW</td>\n",
              "      <td>1 Series</td>\n",
              "      <td>2011</td>\n",
              "      <td>premium unleaded (required)</td>\n",
              "      <td>230.0</td>\n",
              "      <td>6.0</td>\n",
              "      <td>MANUAL</td>\n",
              "      <td>rear wheel drive</td>\n",
              "      <td>2.0</td>\n",
              "      <td>Luxury,Performance</td>\n",
              "      <td>Compact</td>\n",
              "      <td>Coupe</td>\n",
              "      <td>28</td>\n",
              "      <td>18</td>\n",
              "      <td>3916</td>\n",
              "      <td>29450</td>\n",
              "    </tr>\n",
              "    <tr>\n",
              "      <th>4</th>\n",
              "      <td>BMW</td>\n",
              "      <td>1 Series</td>\n",
              "      <td>2011</td>\n",
              "      <td>premium unleaded (required)</td>\n",
              "      <td>230.0</td>\n",
              "      <td>6.0</td>\n",
              "      <td>MANUAL</td>\n",
              "      <td>rear wheel drive</td>\n",
              "      <td>2.0</td>\n",
              "      <td>Luxury</td>\n",
              "      <td>Compact</td>\n",
              "      <td>Convertible</td>\n",
              "      <td>28</td>\n",
              "      <td>18</td>\n",
              "      <td>3916</td>\n",
              "      <td>34500</td>\n",
              "    </tr>\n",
              "  </tbody>\n",
              "</table>\n",
              "</div>\n",
              "      <button class=\"colab-df-convert\" onclick=\"convertToInteractive('df-e524a22f-bb6c-44b3-9918-573eb73cd58c')\"\n",
              "              title=\"Convert this dataframe to an interactive table.\"\n",
              "              style=\"display:none;\">\n",
              "        \n",
              "  <svg xmlns=\"http://www.w3.org/2000/svg\" height=\"24px\"viewBox=\"0 0 24 24\"\n",
              "       width=\"24px\">\n",
              "    <path d=\"M0 0h24v24H0V0z\" fill=\"none\"/>\n",
              "    <path d=\"M18.56 5.44l.94 2.06.94-2.06 2.06-.94-2.06-.94-.94-2.06-.94 2.06-2.06.94zm-11 1L8.5 8.5l.94-2.06 2.06-.94-2.06-.94L8.5 2.5l-.94 2.06-2.06.94zm10 10l.94 2.06.94-2.06 2.06-.94-2.06-.94-.94-2.06-.94 2.06-2.06.94z\"/><path d=\"M17.41 7.96l-1.37-1.37c-.4-.4-.92-.59-1.43-.59-.52 0-1.04.2-1.43.59L10.3 9.45l-7.72 7.72c-.78.78-.78 2.05 0 2.83L4 21.41c.39.39.9.59 1.41.59.51 0 1.02-.2 1.41-.59l7.78-7.78 2.81-2.81c.8-.78.8-2.07 0-2.86zM5.41 20L4 18.59l7.72-7.72 1.47 1.35L5.41 20z\"/>\n",
              "  </svg>\n",
              "      </button>\n",
              "      \n",
              "  <style>\n",
              "    .colab-df-container {\n",
              "      display:flex;\n",
              "      flex-wrap:wrap;\n",
              "      gap: 12px;\n",
              "    }\n",
              "\n",
              "    .colab-df-convert {\n",
              "      background-color: #E8F0FE;\n",
              "      border: none;\n",
              "      border-radius: 50%;\n",
              "      cursor: pointer;\n",
              "      display: none;\n",
              "      fill: #1967D2;\n",
              "      height: 32px;\n",
              "      padding: 0 0 0 0;\n",
              "      width: 32px;\n",
              "    }\n",
              "\n",
              "    .colab-df-convert:hover {\n",
              "      background-color: #E2EBFA;\n",
              "      box-shadow: 0px 1px 2px rgba(60, 64, 67, 0.3), 0px 1px 3px 1px rgba(60, 64, 67, 0.15);\n",
              "      fill: #174EA6;\n",
              "    }\n",
              "\n",
              "    [theme=dark] .colab-df-convert {\n",
              "      background-color: #3B4455;\n",
              "      fill: #D2E3FC;\n",
              "    }\n",
              "\n",
              "    [theme=dark] .colab-df-convert:hover {\n",
              "      background-color: #434B5C;\n",
              "      box-shadow: 0px 1px 3px 1px rgba(0, 0, 0, 0.15);\n",
              "      filter: drop-shadow(0px 1px 2px rgba(0, 0, 0, 0.3));\n",
              "      fill: #FFFFFF;\n",
              "    }\n",
              "  </style>\n",
              "\n",
              "      <script>\n",
              "        const buttonEl =\n",
              "          document.querySelector('#df-e524a22f-bb6c-44b3-9918-573eb73cd58c button.colab-df-convert');\n",
              "        buttonEl.style.display =\n",
              "          google.colab.kernel.accessAllowed ? 'block' : 'none';\n",
              "\n",
              "        async function convertToInteractive(key) {\n",
              "          const element = document.querySelector('#df-e524a22f-bb6c-44b3-9918-573eb73cd58c');\n",
              "          const dataTable =\n",
              "            await google.colab.kernel.invokeFunction('convertToInteractive',\n",
              "                                                     [key], {});\n",
              "          if (!dataTable) return;\n",
              "\n",
              "          const docLinkHtml = 'Like what you see? Visit the ' +\n",
              "            '<a target=\"_blank\" href=https://colab.research.google.com/notebooks/data_table.ipynb>data table notebook</a>'\n",
              "            + ' to learn more about interactive tables.';\n",
              "          element.innerHTML = '';\n",
              "          dataTable['output_type'] = 'display_data';\n",
              "          await google.colab.output.renderOutput(dataTable, element);\n",
              "          const docLink = document.createElement('div');\n",
              "          docLink.innerHTML = docLinkHtml;\n",
              "          element.appendChild(docLink);\n",
              "        }\n",
              "      </script>\n",
              "    </div>\n",
              "  </div>\n",
              "  "
            ]
          },
          "metadata": {},
          "execution_count": 5
        }
      ]
    },
    {
      "cell_type": "code",
      "source": [
        "car_data.shape"
      ],
      "metadata": {
        "colab": {
          "base_uri": "https://localhost:8080/"
        },
        "id": "8F0rZFyyLIFG",
        "outputId": "422a8453-f5e0-4bbf-d272-56af44e45f0f"
      },
      "execution_count": 7,
      "outputs": [
        {
          "output_type": "execute_result",
          "data": {
            "text/plain": [
              "(11914, 16)"
            ]
          },
          "metadata": {},
          "execution_count": 7
        }
      ]
    },
    {
      "cell_type": "code",
      "source": [
        "car_data.columns"
      ],
      "metadata": {
        "colab": {
          "base_uri": "https://localhost:8080/"
        },
        "id": "dMAHhhRqLQcU",
        "outputId": "dce42c55-a251-4c70-a6fd-0257e1bb5e8d"
      },
      "execution_count": 9,
      "outputs": [
        {
          "output_type": "execute_result",
          "data": {
            "text/plain": [
              "Index(['Make', 'Model', 'Year', 'Engine Fuel Type', 'Engine HP',\n",
              "       'Engine Cylinders', 'Transmission Type', 'Driven_Wheels',\n",
              "       'Number of Doors', 'Market Category', 'Vehicle Size', 'Vehicle Style',\n",
              "       'highway MPG', 'city mpg', 'Popularity', 'MSRP'],\n",
              "      dtype='object')"
            ]
          },
          "metadata": {},
          "execution_count": 9
        }
      ]
    },
    {
      "cell_type": "code",
      "source": [
        "len(car_data.columns)"
      ],
      "metadata": {
        "colab": {
          "base_uri": "https://localhost:8080/"
        },
        "id": "CdmiyiJ0LY0g",
        "outputId": "0b4ffca1-3f83-4a52-a147-e2a92cd6b453"
      },
      "execution_count": 10,
      "outputs": [
        {
          "output_type": "execute_result",
          "data": {
            "text/plain": [
              "16"
            ]
          },
          "metadata": {},
          "execution_count": 10
        }
      ]
    },
    {
      "cell_type": "code",
      "source": [
        "car_data.info()"
      ],
      "metadata": {
        "colab": {
          "base_uri": "https://localhost:8080/"
        },
        "id": "7StQPZ9wLgcM",
        "outputId": "cdeba1c4-0ac3-4263-9199-ddb02cd8fe58"
      },
      "execution_count": 11,
      "outputs": [
        {
          "output_type": "stream",
          "name": "stdout",
          "text": [
            "<class 'pandas.core.frame.DataFrame'>\n",
            "RangeIndex: 11914 entries, 0 to 11913\n",
            "Data columns (total 16 columns):\n",
            " #   Column             Non-Null Count  Dtype  \n",
            "---  ------             --------------  -----  \n",
            " 0   Make               11914 non-null  object \n",
            " 1   Model              11914 non-null  object \n",
            " 2   Year               11914 non-null  int64  \n",
            " 3   Engine Fuel Type   11911 non-null  object \n",
            " 4   Engine HP          11845 non-null  float64\n",
            " 5   Engine Cylinders   11884 non-null  float64\n",
            " 6   Transmission Type  11914 non-null  object \n",
            " 7   Driven_Wheels      11914 non-null  object \n",
            " 8   Number of Doors    11908 non-null  float64\n",
            " 9   Market Category    8172 non-null   object \n",
            " 10  Vehicle Size       11914 non-null  object \n",
            " 11  Vehicle Style      11914 non-null  object \n",
            " 12  highway MPG        11914 non-null  int64  \n",
            " 13  city mpg           11914 non-null  int64  \n",
            " 14  Popularity         11914 non-null  int64  \n",
            " 15  MSRP               11914 non-null  int64  \n",
            "dtypes: float64(3), int64(5), object(8)\n",
            "memory usage: 1.5+ MB\n"
          ]
        }
      ]
    },
    {
      "cell_type": "code",
      "source": [
        "car_data.isnull().sum()"
      ],
      "metadata": {
        "colab": {
          "base_uri": "https://localhost:8080/"
        },
        "id": "BXjMkCADlP4B",
        "outputId": "ab559a5d-9246-48b7-e17d-b9fcd9bbde07"
      },
      "execution_count": 45,
      "outputs": [
        {
          "output_type": "execute_result",
          "data": {
            "text/plain": [
              "make                    0\n",
              "model                   0\n",
              "year                    0\n",
              "engine_fuel_type        3\n",
              "engine_hp              69\n",
              "engine_cylinders       30\n",
              "transmission_type       0\n",
              "driven_wheels           0\n",
              "number_of_doors         6\n",
              "market_category      3742\n",
              "vehicle_size            0\n",
              "vehicle_style           0\n",
              "highway_mpg             0\n",
              "city_mpg                0\n",
              "popularity              0\n",
              "price                   0\n",
              "log_price               0\n",
              "dtype: int64"
            ]
          },
          "metadata": {},
          "execution_count": 45
        }
      ]
    },
    {
      "cell_type": "markdown",
      "source": [
        "we notices that we have missing values which will deals with them later"
      ],
      "metadata": {
        "id": "cR5BQVT7M69z"
      }
    },
    {
      "cell_type": "code",
      "source": [
        "# print the first 5 largest unique values of the columns\n",
        "for col in car_data.columns:\n",
        "  print(col,':',car_data[col].unique())\n",
        "  print(car_data[col].value_counts().nlargest(5))\n",
        "  print('\\n',20*'*','\\n')"
      ],
      "metadata": {
        "colab": {
          "base_uri": "https://localhost:8080/"
        },
        "id": "oFA4Ej9KL-F3",
        "outputId": "2b792423-f69d-48ae-c1f7-dce4bf972e60"
      },
      "execution_count": 121,
      "outputs": [
        {
          "output_type": "stream",
          "name": "stdout",
          "text": [
            "make : ['bmw' 'audi' 'fiat' 'mercedes-benz' 'chrysler' 'nissan' 'volvo' 'mazda'\n",
            " 'mitsubishi' 'ferrari' 'alfa_romeo' 'toyota' 'mclaren' 'maybach'\n",
            " 'pontiac' 'porsche' 'saab' 'gmc' 'hyundai' 'plymouth' 'honda'\n",
            " 'oldsmobile' 'suzuki' 'ford' 'cadillac' 'kia' 'bentley' 'chevrolet'\n",
            " 'dodge' 'lamborghini' 'lincoln' 'subaru' 'volkswagen' 'spyker' 'buick'\n",
            " 'acura' 'rolls-royce' 'maserati' 'lexus' 'aston_martin' 'land_rover'\n",
            " 'lotus' 'infiniti' 'scion' 'genesis' 'hummer' 'tesla' 'bugatti']\n",
            "chevrolet     1123\n",
            "ford           881\n",
            "volkswagen     809\n",
            "toyota         746\n",
            "dodge          626\n",
            "Name: make, dtype: int64\n",
            "\n",
            " ******************** \n",
            "\n",
            "model : ['1_series_m' '1_series' '100' '124_spider' '190-class' '2_series' '200'\n",
            " '200sx' '240sx' '240' '2' '3_series_gran_turismo' '3_series' '300-class'\n",
            " '3000gt' '300' '300m' '300zx' '323' '350-class' '350z' '360' '370z' '3'\n",
            " '4_series_gran_coupe' '4_series' '400-class' '420-class' '456m'\n",
            " '458_italia' '4c' '4runner' '5_series_gran_turismo' '5_series'\n",
            " '500-class' '500e' '500' '500l' '500x' '550' '560-class' '570s' '575m'\n",
            " '57' '599' '5' '6_series_gran_coupe' '6_series' '600-class' '6000'\n",
            " '612_scaglietti' '626' '62' '650s_coupe' '650s_spider' '6' '7_series'\n",
            " '718_cayman' '740' '760' '780' '8_series' '80' '850' '86' '9-2x'\n",
            " '9-3_griffin' '9-3' '9-4x' '9-5' '9-7x' '9000' '900' '90' '911' '928'\n",
            " '929' '940' '944' '960' '968' 'a3' 'a4_allroad' 'a4' 'a5' 'a6' 'a7' 'a8'\n",
            " 'acadia_limited' 'acadia' 'accent' 'acclaim' 'accord_crosstour'\n",
            " 'accord_hybrid' 'accord_plug-in_hybrid' 'accord' 'achieva'\n",
            " 'activehybrid_5' 'activehybrid_7' 'activehybrid_x6' 'aerio' 'aerostar'\n",
            " 'alero' 'allante' 'allroad_quattro' 'allroad' 'alpina_b6_gran_coupe'\n",
            " 'alpina_b7' 'alpina' 'altima_hybrid' 'altima' 'amanti' 'amg_gt' 'armada'\n",
            " 'arnage' 'aspen' 'aspire' 'astro_cargo' 'astro' 'ats_coupe' 'ats-v' 'ats'\n",
            " 'aurora' 'avalanche' 'avalon_hybrid' 'avalon' 'avenger' 'aventador'\n",
            " 'aveo' 'aviator' 'axxess' 'azera' 'aztek' 'azure_t' 'azure'\n",
            " 'b-class_electric_drive' 'b-series_pickup' 'b-series_truck' 'b-series'\n",
            " 'b9_tribeca' 'baja' 'beetle_convertible' 'beetle' 'beretta'\n",
            " 'black_diamond_avalanche' 'blackwood' 'blazer' 'bolt_ev' 'bonneville'\n",
            " 'borrego' 'boxster' 'bravada' 'breeze' 'bronco_ii' 'bronco' 'brooklands'\n",
            " 'brougham' 'brz' 'c-class' 'c-max_hybrid' 'c30' 'c36_amg' 'c43_amg' 'c70'\n",
            " 'c8' 'cabriolet' 'cabrio' 'cadenza' 'caliber' 'california_t' 'california'\n",
            " 'camaro' 'camry_hybrid' 'camry_solara' 'camry' 'canyon' 'caprice'\n",
            " 'captiva_sport' 'caravan' 'carrera_gt' 'cascada' 'catera' 'cavalier'\n",
            " 'cayenne' 'cayman_s' 'cayman' 'cc' 'celebrity' 'celica' 'century'\n",
            " 'challenger' 'charger' 'chevy_van' 'ciera' 'cirrus' 'city_express'\n",
            " 'civic_crx' 'civic_del_sol' 'civic' 'c/k_1500_series' 'c/k_2500_series'\n",
            " 'cl-class' 'cla-class' 'cl' 'classic' 'clk-class' 'cls-class' 'cobalt'\n",
            " 'colorado' 'colt' 'concorde' 'continental_flying_spur_speed'\n",
            " 'continental_flying_spur' 'continental_gt_speed_convertible'\n",
            " 'continental_gt_speed' 'continental_gt3-r' 'continental_gt'\n",
            " 'continental_gtc_speed' 'continental_gtc'\n",
            " 'continental_supersports_convertible' 'continental_supersports'\n",
            " 'continental' 'contour_svt' 'contour' 'corniche' 'corolla_im' 'corolla'\n",
            " 'corrado' 'corsica' 'corvette_stingray' 'corvette' 'coupe' 'cr-v' 'cr-z'\n",
            " 'cressida' 'crossfire' 'crosstour' 'crosstrek' 'crown_victoria'\n",
            " 'cruze_limited' 'cruze' 'ct_200h' 'ct6' 'cts_coupe' 'cts-v_coupe'\n",
            " 'cts-v_wagon' 'cts-v' 'cts_wagon' 'cts' 'cube' 'custom_cruiser'\n",
            " 'cutlass_calais' 'cutlass_ciera' 'cutlass_supreme' 'cutlass' 'cx-3'\n",
            " 'cx-5' 'cx-7' 'cx-9' 'dakota' 'dart' 'dawn' 'daytona' 'db7' 'db9_gt'\n",
            " 'db9' 'dbs' 'defender' 'deville' 'diablo' 'diamante'\n",
            " 'discovery_series_ii' 'discovery_sport' 'discovery' 'dts' 'durango'\n",
            " 'dynasty' 'e-150' 'e-250' 'e-class' 'e-golf' 'e-series_van'\n",
            " 'e-series_wagon' 'e55_amg' 'echo' 'eclipse_spyder' 'eclipse' 'edge'\n",
            " 'eighty-eight_royale' 'eighty-eight' 'elantra_coupe' 'elantra_gt'\n",
            " 'elantra_touring' 'elantra' 'eldorado' 'electra' 'element' 'elise'\n",
            " 'enclave' 'encore' 'endeavor' 'entourage' 'envision' 'envoy_xl'\n",
            " 'envoy_xuv' 'envoy' 'enzo' 'eos' 'equator' 'equinox' 'equus' 'es_250'\n",
            " 'es_300h' 'es_300' 'es_330' 'es_350' 'escalade_esv' 'escalade_ext'\n",
            " 'escalade_hybrid' 'escalade' 'escape_hybrid' 'escape' 'escort' 'esprit'\n",
            " 'estate_wagon' 'esteem' 'eurovan' 'evora_400' 'evora' 'ex35' 'excel'\n",
            " 'exige' 'ex' 'expedition' 'explorer_sport_trac' 'explorer_sport'\n",
            " 'explorer' 'expo' 'express_cargo' 'express' 'f-150_heritage'\n",
            " 'f-150_svt_lightning' 'f-150' 'f-250' 'f12_berlinetta' 'f430' 'festiva'\n",
            " 'ff' 'fiesta' 'firebird' 'fit_ev' 'fit' 'five_hundred' 'fj_cruiser'\n",
            " 'fleetwood' 'flex' 'flying_spur' 'focus_rs' 'focus_st' 'focus' 'forenza'\n",
            " 'forester' 'forte' 'fox' 'fr-s' 'freelander' 'freestar' 'freestyle'\n",
            " 'frontier' 'fusion_hybrid' 'fusion' 'fx35' 'fx45' 'fx50' 'fx' 'g-class'\n",
            " 'g_convertible' 'g_coupe' 'g_sedan' 'g20' 'g35' 'g37_convertible'\n",
            " 'g37_coupe' 'g37_sedan' 'g37' 'g3' 'g5' 'g6' 'g80' 'g8' 'galant'\n",
            " 'gallardo' 'genesis_coupe' 'genesis' 'ghibli' 'ghost_series_ii' 'ghost'\n",
            " 'gl-class' 'gla-class' 'glc-class' 'gle-class_coupe' 'gle-class' 'gli'\n",
            " 'glk-class' 'gls-class' 'golf_alltrack' 'golf_gti' 'golf_r'\n",
            " 'golf_sportwagen' 'golf' 'grand_am' 'grand_caravan' 'grand_prix'\n",
            " 'grand_vitara' 'grand_voyager' 'gransport' 'granturismo_convertible'\n",
            " 'granturismo' 'gs_200t' 'gs_300' 'gs_350' 'gs_400' 'gs_430' 'gs_450h'\n",
            " 'gs_460' 'gs_f' 'gt-r' 'gt' 'gti' 'gto' 'gx_460' 'gx_470' 'h3' 'h3t'\n",
            " 'hhr' 'highlander_hybrid' 'highlander' 'horizon' 'hr-v' 'hs_250h'\n",
            " 'huracan' 'i-miev' 'i30' 'i35' 'i3' 'ia' 'ilx_hybrid' 'ilx'\n",
            " 'impala_limited' 'impala' 'imperial' 'impreza_wrx' 'impreza' 'im'\n",
            " 'insight' 'integra' 'intrepid' 'intrigue' 'iq' 'is_200t' 'is_250_c'\n",
            " 'is_250' 'is_300' 'is_350_c' 'is_350' 'is_f' 'j30' 'jetta_gli'\n",
            " 'jetta_hybrid' 'jetta_sportwagen' 'jetta' 'jimmy' 'journey' 'juke'\n",
            " 'justy' 'jx' 'k900' 'kizashi' 'lacrosse' 'lancer_evolution'\n",
            " 'lancer_sportback' 'lancer' 'land_cruiser' 'landaulet' 'laser' 'le_baron'\n",
            " 'le_mans' 'leaf' 'legacy' 'legend' 'lesabre' 'levante' 'lfa' 'lhs'\n",
            " 'loyale' 'lr2' 'lr3' 'lr4' 'ls_400' 'ls_430' 'ls_460' 'ls_600h_l' 'ls'\n",
            " 'lss' 'ltd_crown_victoria' 'lucerne' 'lumina_minivan' 'lumina' 'lx_450'\n",
            " 'lx_470' 'lx_570' 'm-class' 'm2' 'm30' 'm35' 'm37' 'm3' 'm4_gts' 'm45'\n",
            " 'm4' 'm56' 'm5' 'm6_gran_coupe' 'm6' 'macan' 'magnum' 'malibu_classic'\n",
            " 'malibu_hybrid' 'malibu_limited' 'malibu_maxx' 'malibu' 'mark_lt'\n",
            " 'mark_viii' 'mark_vii' 'matrix' 'maxima' 'maybach' 'mazdaspeed_3'\n",
            " 'mazdaspeed_6' 'mazdaspeed_mx-5_miata' 'mazdaspeed_protege' 'm' 'mdx'\n",
            " 'metris' 'metro' 'mighty_max_pickup' 'millenia' 'mirage_g4' 'mirage'\n",
            " 'mkc' 'mks' 'mkt' 'mkx' 'mkz_hybrid' 'mkz' 'ml55_amg' 'model_s' 'monaco'\n",
            " 'montana_sv6' 'montana' 'monte_carlo' 'montero_sport' 'montero' 'mp4-12c'\n",
            " 'mpv' 'mr2_spyder' 'mr2' 'mulsanne' 'murano_crosscabriolet' 'murano'\n",
            " 'murcielago' 'mustang_svt_cobra' 'mustang' 'mx-3' 'mx-5_miata' 'mx-6'\n",
            " 'navajo' 'navigator' 'neon' 'new_beetle' 'new_yorker' 'ninety-eight'\n",
            " 'nitro' 'nsx' 'nv200' 'nx_200t' 'nx_300h' 'nx' 'odyssey' 'omni'\n",
            " 'optima_hybrid' 'optima' 'outback' 'outlander_sport' 'outlander'\n",
            " 'pacifica' 'panamera' 'park_avenue' 'park_ward' 'paseo' 'passat'\n",
            " 'passport' 'pathfinder' 'phaeton' 'phantom_coupe'\n",
            " 'phantom_drophead_coupe' 'phantom' 'pickup' 'pilot' 'precis' 'prelude'\n",
            " 'previa' 'prius_c' 'prius_prime' 'prius_v' 'prius' 'prizm' 'probe'\n",
            " 'protege5' 'protege' 'prowler' 'pt_cruiser' 'pulsar' 'q3' 'q40' 'q45'\n",
            " 'q50' 'q5' 'q60_convertible' 'q60_coupe' 'q70' 'q7' 'quattroporte'\n",
            " 'quest' 'qx4' 'qx50' 'qx56' 'qx60' 'qx70' 'qx80' 'qx' 'r-class' 'r32'\n",
            " 'r8' 'rabbit' 'raider' 'rainier' 'rally_wagon' 'ram_150' 'ram_250'\n",
            " 'ram_50_pickup' 'ram_cargo' 'ram_pickup_1500' 'ram_van' 'ram_wagon'\n",
            " 'ramcharger' 'range_rover_evoque' 'range_rover_sport' 'range_rover'\n",
            " 'ranger' 'rapide_s' 'rapide' 'rav4_ev' 'rav4_hybrid' 'rav4' 'rc_200t'\n",
            " 'rc_300' 'rc_350' 'rc_f' 'rdx' 'reatta' 'regal' 'regency' 'rendezvous'\n",
            " 'reno' 'reventon' 'ridgeline' 'rio' 'riviera' 'rl' 'rlx' 'roadmaster'\n",
            " 'rogue_select' 'rogue' 'rondo' 'routan' 'rs_4' 'rs_5' 'rs_6' 'rs_7' 'rsx'\n",
            " 'rx_300' 'rx_330' 'rx_350' 'rx_400h' 'rx_450h' 'rx-7' 'rx-8'\n",
            " 's-10_blazer' 's-10' 's-15_jimmy' 's-15' 's-class' 's2000' 's3' 's40'\n",
            " 's4' 's5' 's60_cross_country' 's60' 's6' 's70' 's7' 's80' 's8' 's90'\n",
            " 'safari_cargo' 'safari' 'samurai' 'santa_fe_sport' 'santa_fe'\n",
            " 'savana_cargo' 'savana' 'sc_300' 'sc_400' 'sc_430' 'scoupe' 'sebring'\n",
            " 'sedona' 'sentra' 'sephia' 'sequoia' 'seville' 'shadow' 'shelby_gt350'\n",
            " 'shelby_gt500' 'sidekick' 'sienna' 'sierra_1500_classic'\n",
            " 'sierra_1500_hybrid' 'sierra_1500' 'sierra_1500hd' 'sierra_c3'\n",
            " 'sierra_classic_1500' 'sigma' 'silhouette' 'silver_seraph'\n",
            " 'silverado_1500_classic' 'silverado_1500_hybrid' 'silverado_1500'\n",
            " 'sixty_special' 'skylark' 'sl-class' 'slc-class' 'slk-class'\n",
            " 'slr_mclaren' 'sls_amg_gt_final_edition' 'sls_amg_gt' 'sls_amg' 'slx'\n",
            " 'solstice' 'sonata_hybrid' 'sonata' 'sonic' 'sonoma' 'sorento' 'soul_ev'\n",
            " 'soul' 'spark_ev' 'spark' 'spectra' 'spirit' 'sportage' 'sportvan'\n",
            " 'spyder' 'sq5' 'srt_viper' 'srx' 'ss' 'ssr' 'stanza' 'stealth' 'stratus'\n",
            " 'sts-v' 'sts' 'suburban' 'sunbird' 'sundance' 'sunfire' 'superamerica'\n",
            " 'supersports_convertible_isr' 'supra' 'svx' 'swift' 'sx4' 'syclone'\n",
            " 't100' 'tacoma' 'tahoe_hybrid' 'tahoe_limited/z71' 'tahoe' 'taurus_x'\n",
            " 'taurus' 'tc' 'tempo' 'tercel' 'terrain' 'terraza' 'thunderbird'\n",
            " 'tiburon' 'tiguan' 'titan' 'tl' 'tlx' 'toronado' 'torrent' 'touareg_2'\n",
            " 'touareg' 'town_and_country' 'town_car' 'tracker' 'trailblazer_ext'\n",
            " 'trailblazer' 'trans_sport' 'transit_connect' 'transit_wagon' 'traverse'\n",
            " 'trax' 'tribeca' 'tribute_hybrid' 'tribute' 'truck' 'tsx_sport_wagon'\n",
            " 'tsx' 'tt_rs' 'tt' 'tts' 'tucson' 'tundra' 'typhoon' 'uplander'\n",
            " 'v12_vanquish' 'v12_vantage_s' 'v12_vantage' 'v40' 'v50'\n",
            " 'v60_cross_country' 'v60' 'v70' 'v8_vantage' 'v8' 'v90' 'vanagon'\n",
            " 'vandura' 'van' 'vanquish' 'vanwagon' 'veloster' 'venture' 'venza'\n",
            " 'veracruz' 'verano' 'verona' 'versa_note' 'versa' 'veyron_16.4' 'vibe'\n",
            " 'vigor' 'viper' 'virage' 'vitara' 'voyager' 'windstar_cargo' 'windstar'\n",
            " 'wraith' 'wrx' 'x-90' 'x1' 'x3' 'x4' 'x5_m' 'x5' 'x6_m' 'x6' 'xa' 'xb'\n",
            " 'xc60' 'xc70' 'xc90' 'xc' 'xd' 'xg300' 'xg350' 'xl-7' 'xl7' 'xlr-v' 'xlr'\n",
            " 'xt5' 'xterra' 'xts' 'xt' 'xv_crosstrek' 'yaris_ia' 'yaris'\n",
            " 'yukon_denali' 'yukon_hybrid' 'yukon_xl' 'yukon' 'z3' 'z4_m' 'z4' 'z8'\n",
            " 'zdx' 'zephyr']\n",
            "silverado_1500        156\n",
            "tundra                140\n",
            "f-150                 126\n",
            "sierra_1500            90\n",
            "beetle_convertible     89\n",
            "Name: model, dtype: int64\n",
            "\n",
            " ******************** \n",
            "\n",
            "year : [2011 2012 2013 1992 1993 1994 2017 1991 2016 1990 2015 1996 1997 1998\n",
            " 2014 1999 2002 2003 2004 1995 2007 2008 2009 2001 2010 2000 2005 2006]\n",
            "2015    2170\n",
            "2016    2157\n",
            "2017    1668\n",
            "2014     589\n",
            "2012     387\n",
            "Name: year, dtype: int64\n",
            "\n",
            " ******************** \n",
            "\n",
            "engine_fuel_type : ['premium_unleaded_(required)' 'regular_unleaded'\n",
            " 'premium_unleaded_(recommended)' 'flex-fuel_(unleaded/e85)' 'diesel'\n",
            " 'electric' 'flex-fuel_(premium_unleaded_recommended/e85)' 'natural_gas'\n",
            " 'flex-fuel_(premium_unleaded_required/e85)'\n",
            " 'flex-fuel_(unleaded/natural_gas)' nan]\n",
            "regular_unleaded                  7172\n",
            "premium_unleaded_(required)       2009\n",
            "premium_unleaded_(recommended)    1523\n",
            "flex-fuel_(unleaded/e85)           899\n",
            "diesel                             154\n",
            "Name: engine_fuel_type, dtype: int64\n",
            "\n",
            " ******************** \n",
            "\n",
            "engine_hp : [ 335.  300.  230.  320.  172.  160.  130.  158.  240.  248.  162.  217.\n",
            "  184.  295.  115.  140.  155.  114.  100.  241.  180.  177.  228.  121.\n",
            "  148.  194.  218.  161.  292.  250.  255.  222.   82.  134.  306.  400.\n",
            "  425.  350.  332.  268.  282.  275.  201.  442.  562.  597.  237.  270.\n",
            "  445.  443.  302.  322.  315.   nan  101.  135.  485.  238.  515.  543.\n",
            "  631.  604.  620.  611.  661.  157.  402.  389.  110.  532.  170.  165.\n",
            "  125.  641.  535.  153.  144.  188.  372.  108.  168.  190.  205.  200.\n",
            "  227.  173.  220.  210.  280.  207.  265.  260.  290.  285.  390.  225.\n",
            "  185.  150.  430.  520.  560.  475.  500.  540.  370.  580.  420.  345.\n",
            "  195.  193.  208.  181.  236.  186.  252.  310.  333.  340.  450.  281.\n",
            "  288.  138.  137.  106.  271.  196.  212.  278.  189.  480.  152.  600.\n",
            "  375.  198.  182.  179.  264.  503.  456.  317.  235.  385.  303.   63.\n",
            "  321.  272.  464.  202.  215.  283.  700.  720.  750.  107.  293.  119.\n",
            "  143.  245.  120.  337.  276.  330.  132.  199.  530.  451.  329.  469.\n",
            "  362.   94.  553.  453.  483.  323.  426.  505.  455.  650.  178.  242.\n",
            "  305.  605.  440.  570.  325.  175.  707.  131.   62.   92.  102.  127.\n",
            "  174.  621.  510.  429.  536.  355.  382.  577.  113.  136.  234.  552.\n",
            "  626.  616.  572.  521.  567.  582.  460.  164.  192.  224.  239.  404.\n",
            "  318.  556.  640.  122.  146.  244.  273.  563.  141.  435.  550.  360.\n",
            "  145.  349.  166.  147.  128.  197.  291.  660.  261.  156.  403.   95.\n",
            "  297.   81.  257.  365.  203.  231.  731.  651.  287.  123.  126.  416.\n",
            "  343.  348.  328.  298.  171.  219.  221.  311.  361.  256.  415.  274.\n",
            "  449.  395.  401.  454.  444.  338.  342.  467.  545.  565.  301.  263.\n",
            "   93.  187.  610.   66.  111.   98.  204.  211.   73.  304.  381.  142.\n",
            "   74.  424.  253.   90.  386.  359.  438.  232.  383.  518.  493.  259.\n",
            "  523.   55.   79.  116.  151.   78.  191.  592.  632.  670.   88.  167.\n",
            "  118.  380.  214.  573.  284.   99.  103.  525.  254.  470.  154.  176.\n",
            "  279.  377.  251.  223.  308.  105.  316.  124.  526.  662.  266.  296.\n",
            "  557.  617.  583.  622.   84.  163.  354.  159.   96.  206.  169.  133.\n",
            "  568.  109. 1001.  645.  490.  624.  410.   97.  394.]\n",
            "200.00    456\n",
            "170.00    351\n",
            "210.00    320\n",
            "240.00    268\n",
            "285.00    246\n",
            "Name: engine_hp, dtype: int64\n",
            "\n",
            " ******************** \n",
            "\n",
            "engine_cylinders : [ 6.  4.  5.  8. 12.  0. nan 10.  3. 16.]\n",
            "4.00     4752\n",
            "6.00     4489\n",
            "8.00     2031\n",
            "12.00     230\n",
            "5.00      225\n",
            "Name: engine_cylinders, dtype: int64\n",
            "\n",
            " ******************** \n",
            "\n",
            "transmission_type : ['manual' 'automatic' 'automated_manual' 'direct_drive' 'unknown']\n",
            "automatic           8266\n",
            "manual              2935\n",
            "automated_manual     626\n",
            "direct_drive          68\n",
            "unknown               19\n",
            "Name: transmission_type, dtype: int64\n",
            "\n",
            " ******************** \n",
            "\n",
            "driven_wheels : ['rear_wheel_drive' 'front_wheel_drive' 'all_wheel_drive'\n",
            " 'four_wheel_drive']\n",
            "front_wheel_drive    4787\n",
            "rear_wheel_drive     3371\n",
            "all_wheel_drive      2353\n",
            "four_wheel_drive     1403\n",
            "Name: driven_wheels, dtype: int64\n",
            "\n",
            " ******************** \n",
            "\n",
            "number_of_doors : [ 2.  4.  3. nan]\n",
            "4.00    8353\n",
            "2.00    3160\n",
            "3.00     395\n",
            "Name: number_of_doors, dtype: int64\n",
            "\n",
            " ******************** \n",
            "\n",
            "market_category : ['factory_tuner,luxury,high-performance' 'luxury,performance'\n",
            " 'luxury,high-performance' 'luxury' 'performance' 'flex_fuel'\n",
            " 'flex_fuel,performance' nan 'hatchback' 'hatchback,luxury,performance'\n",
            " 'hatchback,luxury' 'luxury,high-performance,hybrid' 'diesel,luxury'\n",
            " 'hatchback,performance' 'hatchback,factory_tuner,performance'\n",
            " 'high-performance' 'factory_tuner,high-performance'\n",
            " 'exotic,high-performance' 'exotic,factory_tuner,high-performance'\n",
            " 'factory_tuner,performance' 'crossover' 'exotic,luxury'\n",
            " 'exotic,luxury,high-performance' 'exotic,luxury,performance'\n",
            " 'factory_tuner,luxury,performance' 'flex_fuel,luxury' 'crossover,luxury'\n",
            " 'hatchback,factory_tuner,luxury,performance' 'crossover,hatchback'\n",
            " 'hybrid' 'luxury,performance,hybrid'\n",
            " 'crossover,luxury,performance,hybrid' 'crossover,luxury,performance'\n",
            " 'exotic,factory_tuner,luxury,high-performance'\n",
            " 'flex_fuel,luxury,high-performance' 'crossover,flex_fuel' 'diesel'\n",
            " 'hatchback,diesel' 'crossover,luxury,diesel'\n",
            " 'crossover,luxury,high-performance'\n",
            " 'exotic,flex_fuel,factory_tuner,luxury,high-performance'\n",
            " 'exotic,flex_fuel,luxury,high-performance'\n",
            " 'exotic,factory_tuner,luxury,performance' 'hatchback,hybrid'\n",
            " 'crossover,hybrid' 'hatchback,luxury,hybrid'\n",
            " 'flex_fuel,luxury,performance' 'crossover,performance' 'luxury,hybrid'\n",
            " 'crossover,flex_fuel,luxury,performance' 'crossover,flex_fuel,luxury'\n",
            " 'crossover,flex_fuel,performance'\n",
            " 'hatchback,factory_tuner,high-performance' 'hatchback,flex_fuel'\n",
            " 'factory_tuner,luxury' 'crossover,factory_tuner,luxury,high-performance'\n",
            " 'crossover,factory_tuner,luxury,performance'\n",
            " 'crossover,hatchback,factory_tuner,performance'\n",
            " 'crossover,hatchback,performance' 'flex_fuel,hybrid'\n",
            " 'flex_fuel,performance,hybrid' 'crossover,exotic,luxury,high-performance'\n",
            " 'crossover,exotic,luxury,performance' 'exotic,performance'\n",
            " 'exotic,luxury,high-performance,hybrid' 'crossover,luxury,hybrid'\n",
            " 'flex_fuel,factory_tuner,luxury,high-performance' 'performance,hybrid'\n",
            " 'crossover,factory_tuner,performance' 'crossover,diesel'\n",
            " 'flex_fuel,diesel' 'crossover,hatchback,luxury']\n",
            "crossover             1110\n",
            "flex_fuel              872\n",
            "luxury                 855\n",
            "luxury,performance     673\n",
            "hatchback              641\n",
            "Name: market_category, dtype: int64\n",
            "\n",
            " ******************** \n",
            "\n",
            "vehicle_size : ['compact' 'midsize' 'large']\n",
            "compact    4764\n",
            "midsize    4373\n",
            "large      2777\n",
            "Name: vehicle_size, dtype: int64\n",
            "\n",
            " ******************** \n",
            "\n",
            "vehicle_style : ['coupe' 'convertible' 'sedan' 'wagon' '4dr_hatchback' '2dr_hatchback'\n",
            " '4dr_suv' 'passenger_minivan' 'cargo_minivan' 'crew_cab_pickup'\n",
            " 'regular_cab_pickup' 'extended_cab_pickup' '2dr_suv' 'cargo_van'\n",
            " 'convertible_suv' 'passenger_van']\n",
            "sedan            3048\n",
            "4dr_suv          2488\n",
            "coupe            1211\n",
            "convertible       793\n",
            "4dr_hatchback     702\n",
            "Name: vehicle_style, dtype: int64\n",
            "\n",
            " ******************** \n",
            "\n",
            "highway_mpg : [ 26  28  27  25  24  20  21  22  35  34  31  30  32  33  23  36  29  45\n",
            "  43  40  42  19  18  17  15  37  39  41  16  14  38 108 103  12 354  47\n",
            "  46  82 110  44  13 105  99 102 111 106  48 101  90  97  94  98 100 107\n",
            "  53  50  74  92 109]\n",
            "24    876\n",
            "23    801\n",
            "26    778\n",
            "22    753\n",
            "25    731\n",
            "Name: highway_mpg, dtype: int64\n",
            "\n",
            " ******************** \n",
            "\n",
            "city_mpg : [ 19  20  18  17  16  26  23  22  21  24  15  25  29  28  32  31  30  14\n",
            "  10  27  12  13   9  11 122 121   8  50  49  47  35  33  40  85 128  42\n",
            "  43  36  44 126   7  34 132 110 137 129  39  41 124  37  88  94  86 101\n",
            "  95  89 102  98  92  97  91  53  55  51  54  58  78  38 120]\n",
            "17    1230\n",
            "16    1106\n",
            "15    1038\n",
            "18     997\n",
            "19     841\n",
            "Name: city_mpg, dtype: int64\n",
            "\n",
            " ******************** \n",
            "\n",
            "popularity : [3916 3105  819  617 1013 2009  870  586  436 2774  113 2031  416   67\n",
            "  210 1715  376  549 1439  535 2202   26  481 5657 1624 1720  520 1385\n",
            " 1851 1158   61  640  873    2  155  204   86  238  454  259  258  613\n",
            "  190  105   21  130 1391  820]\n",
            "1385    1123\n",
            "5657     881\n",
            "873      809\n",
            "2031     746\n",
            "1851     626\n",
            "Name: popularity, dtype: int64\n",
            "\n",
            " ******************** \n",
            "\n",
            "price : [46135 40650 36350 ... 46120 50620 50920]\n",
            "2000     1036\n",
            "29995      19\n",
            "25995      19\n",
            "20995      16\n",
            "27995      16\n",
            "Name: price, dtype: int64\n",
            "\n",
            " ******************** \n",
            "\n",
            "log_price : [10.73934884 10.61277871 10.50097699 ... 10.73902366 10.83212179\n",
            " 10.83803069]\n",
            "7.60     1036\n",
            "10.31      19\n",
            "10.17      19\n",
            "9.95       16\n",
            "10.24      16\n",
            "Name: log_price, dtype: int64\n",
            "\n",
            " ******************** \n",
            "\n"
          ]
        }
      ]
    },
    {
      "cell_type": "code",
      "source": [
        "# we will make some cleaing to our data\n",
        "car_data.columns = car_data.columns.str.lower().str.replace(' ', '_')\n",
        "string_columns = list(car_data.dtypes[car_data.dtypes == 'object'].index)\n",
        "for col in string_columns:\n",
        "  car_data[col]=car_data[col].str.lower().str.replace(' ','_')"
      ],
      "metadata": {
        "id": "dF_eMXFUMzM8"
      },
      "execution_count": 122,
      "outputs": []
    },
    {
      "cell_type": "code",
      "source": [
        "car_data.head()"
      ],
      "metadata": {
        "colab": {
          "base_uri": "https://localhost:8080/",
          "height": 288
        },
        "id": "gPATFfSeOrYh",
        "outputId": "16071d98-99dc-4945-dcee-80819991a2d3"
      },
      "execution_count": 123,
      "outputs": [
        {
          "output_type": "execute_result",
          "data": {
            "text/plain": [
              "  make       model  year             engine_fuel_type  engine_hp  \\\n",
              "0  bmw  1_series_m  2011  premium_unleaded_(required)     335.00   \n",
              "1  bmw    1_series  2011  premium_unleaded_(required)     300.00   \n",
              "2  bmw    1_series  2011  premium_unleaded_(required)     300.00   \n",
              "3  bmw    1_series  2011  premium_unleaded_(required)     230.00   \n",
              "4  bmw    1_series  2011  premium_unleaded_(required)     230.00   \n",
              "\n",
              "   engine_cylinders transmission_type     driven_wheels  number_of_doors  \\\n",
              "0              6.00            manual  rear_wheel_drive             2.00   \n",
              "1              6.00            manual  rear_wheel_drive             2.00   \n",
              "2              6.00            manual  rear_wheel_drive             2.00   \n",
              "3              6.00            manual  rear_wheel_drive             2.00   \n",
              "4              6.00            manual  rear_wheel_drive             2.00   \n",
              "\n",
              "                         market_category vehicle_size vehicle_style  \\\n",
              "0  factory_tuner,luxury,high-performance      compact         coupe   \n",
              "1                     luxury,performance      compact   convertible   \n",
              "2                luxury,high-performance      compact         coupe   \n",
              "3                     luxury,performance      compact         coupe   \n",
              "4                                 luxury      compact   convertible   \n",
              "\n",
              "   highway_mpg  city_mpg  popularity  price  log_price  \n",
              "0           26        19        3916  46135      10.74  \n",
              "1           28        19        3916  40650      10.61  \n",
              "2           28        20        3916  36350      10.50  \n",
              "3           28        18        3916  29450      10.29  \n",
              "4           28        18        3916  34500      10.45  "
            ],
            "text/html": [
              "\n",
              "  <div id=\"df-c5997b2b-e291-46be-b45b-b25106ec7bcd\">\n",
              "    <div class=\"colab-df-container\">\n",
              "      <div>\n",
              "<style scoped>\n",
              "    .dataframe tbody tr th:only-of-type {\n",
              "        vertical-align: middle;\n",
              "    }\n",
              "\n",
              "    .dataframe tbody tr th {\n",
              "        vertical-align: top;\n",
              "    }\n",
              "\n",
              "    .dataframe thead th {\n",
              "        text-align: right;\n",
              "    }\n",
              "</style>\n",
              "<table border=\"1\" class=\"dataframe\">\n",
              "  <thead>\n",
              "    <tr style=\"text-align: right;\">\n",
              "      <th></th>\n",
              "      <th>make</th>\n",
              "      <th>model</th>\n",
              "      <th>year</th>\n",
              "      <th>engine_fuel_type</th>\n",
              "      <th>engine_hp</th>\n",
              "      <th>engine_cylinders</th>\n",
              "      <th>transmission_type</th>\n",
              "      <th>driven_wheels</th>\n",
              "      <th>number_of_doors</th>\n",
              "      <th>market_category</th>\n",
              "      <th>vehicle_size</th>\n",
              "      <th>vehicle_style</th>\n",
              "      <th>highway_mpg</th>\n",
              "      <th>city_mpg</th>\n",
              "      <th>popularity</th>\n",
              "      <th>price</th>\n",
              "      <th>log_price</th>\n",
              "    </tr>\n",
              "  </thead>\n",
              "  <tbody>\n",
              "    <tr>\n",
              "      <th>0</th>\n",
              "      <td>bmw</td>\n",
              "      <td>1_series_m</td>\n",
              "      <td>2011</td>\n",
              "      <td>premium_unleaded_(required)</td>\n",
              "      <td>335.00</td>\n",
              "      <td>6.00</td>\n",
              "      <td>manual</td>\n",
              "      <td>rear_wheel_drive</td>\n",
              "      <td>2.00</td>\n",
              "      <td>factory_tuner,luxury,high-performance</td>\n",
              "      <td>compact</td>\n",
              "      <td>coupe</td>\n",
              "      <td>26</td>\n",
              "      <td>19</td>\n",
              "      <td>3916</td>\n",
              "      <td>46135</td>\n",
              "      <td>10.74</td>\n",
              "    </tr>\n",
              "    <tr>\n",
              "      <th>1</th>\n",
              "      <td>bmw</td>\n",
              "      <td>1_series</td>\n",
              "      <td>2011</td>\n",
              "      <td>premium_unleaded_(required)</td>\n",
              "      <td>300.00</td>\n",
              "      <td>6.00</td>\n",
              "      <td>manual</td>\n",
              "      <td>rear_wheel_drive</td>\n",
              "      <td>2.00</td>\n",
              "      <td>luxury,performance</td>\n",
              "      <td>compact</td>\n",
              "      <td>convertible</td>\n",
              "      <td>28</td>\n",
              "      <td>19</td>\n",
              "      <td>3916</td>\n",
              "      <td>40650</td>\n",
              "      <td>10.61</td>\n",
              "    </tr>\n",
              "    <tr>\n",
              "      <th>2</th>\n",
              "      <td>bmw</td>\n",
              "      <td>1_series</td>\n",
              "      <td>2011</td>\n",
              "      <td>premium_unleaded_(required)</td>\n",
              "      <td>300.00</td>\n",
              "      <td>6.00</td>\n",
              "      <td>manual</td>\n",
              "      <td>rear_wheel_drive</td>\n",
              "      <td>2.00</td>\n",
              "      <td>luxury,high-performance</td>\n",
              "      <td>compact</td>\n",
              "      <td>coupe</td>\n",
              "      <td>28</td>\n",
              "      <td>20</td>\n",
              "      <td>3916</td>\n",
              "      <td>36350</td>\n",
              "      <td>10.50</td>\n",
              "    </tr>\n",
              "    <tr>\n",
              "      <th>3</th>\n",
              "      <td>bmw</td>\n",
              "      <td>1_series</td>\n",
              "      <td>2011</td>\n",
              "      <td>premium_unleaded_(required)</td>\n",
              "      <td>230.00</td>\n",
              "      <td>6.00</td>\n",
              "      <td>manual</td>\n",
              "      <td>rear_wheel_drive</td>\n",
              "      <td>2.00</td>\n",
              "      <td>luxury,performance</td>\n",
              "      <td>compact</td>\n",
              "      <td>coupe</td>\n",
              "      <td>28</td>\n",
              "      <td>18</td>\n",
              "      <td>3916</td>\n",
              "      <td>29450</td>\n",
              "      <td>10.29</td>\n",
              "    </tr>\n",
              "    <tr>\n",
              "      <th>4</th>\n",
              "      <td>bmw</td>\n",
              "      <td>1_series</td>\n",
              "      <td>2011</td>\n",
              "      <td>premium_unleaded_(required)</td>\n",
              "      <td>230.00</td>\n",
              "      <td>6.00</td>\n",
              "      <td>manual</td>\n",
              "      <td>rear_wheel_drive</td>\n",
              "      <td>2.00</td>\n",
              "      <td>luxury</td>\n",
              "      <td>compact</td>\n",
              "      <td>convertible</td>\n",
              "      <td>28</td>\n",
              "      <td>18</td>\n",
              "      <td>3916</td>\n",
              "      <td>34500</td>\n",
              "      <td>10.45</td>\n",
              "    </tr>\n",
              "  </tbody>\n",
              "</table>\n",
              "</div>\n",
              "      <button class=\"colab-df-convert\" onclick=\"convertToInteractive('df-c5997b2b-e291-46be-b45b-b25106ec7bcd')\"\n",
              "              title=\"Convert this dataframe to an interactive table.\"\n",
              "              style=\"display:none;\">\n",
              "        \n",
              "  <svg xmlns=\"http://www.w3.org/2000/svg\" height=\"24px\"viewBox=\"0 0 24 24\"\n",
              "       width=\"24px\">\n",
              "    <path d=\"M0 0h24v24H0V0z\" fill=\"none\"/>\n",
              "    <path d=\"M18.56 5.44l.94 2.06.94-2.06 2.06-.94-2.06-.94-.94-2.06-.94 2.06-2.06.94zm-11 1L8.5 8.5l.94-2.06 2.06-.94-2.06-.94L8.5 2.5l-.94 2.06-2.06.94zm10 10l.94 2.06.94-2.06 2.06-.94-2.06-.94-.94-2.06-.94 2.06-2.06.94z\"/><path d=\"M17.41 7.96l-1.37-1.37c-.4-.4-.92-.59-1.43-.59-.52 0-1.04.2-1.43.59L10.3 9.45l-7.72 7.72c-.78.78-.78 2.05 0 2.83L4 21.41c.39.39.9.59 1.41.59.51 0 1.02-.2 1.41-.59l7.78-7.78 2.81-2.81c.8-.78.8-2.07 0-2.86zM5.41 20L4 18.59l7.72-7.72 1.47 1.35L5.41 20z\"/>\n",
              "  </svg>\n",
              "      </button>\n",
              "      \n",
              "  <style>\n",
              "    .colab-df-container {\n",
              "      display:flex;\n",
              "      flex-wrap:wrap;\n",
              "      gap: 12px;\n",
              "    }\n",
              "\n",
              "    .colab-df-convert {\n",
              "      background-color: #E8F0FE;\n",
              "      border: none;\n",
              "      border-radius: 50%;\n",
              "      cursor: pointer;\n",
              "      display: none;\n",
              "      fill: #1967D2;\n",
              "      height: 32px;\n",
              "      padding: 0 0 0 0;\n",
              "      width: 32px;\n",
              "    }\n",
              "\n",
              "    .colab-df-convert:hover {\n",
              "      background-color: #E2EBFA;\n",
              "      box-shadow: 0px 1px 2px rgba(60, 64, 67, 0.3), 0px 1px 3px 1px rgba(60, 64, 67, 0.15);\n",
              "      fill: #174EA6;\n",
              "    }\n",
              "\n",
              "    [theme=dark] .colab-df-convert {\n",
              "      background-color: #3B4455;\n",
              "      fill: #D2E3FC;\n",
              "    }\n",
              "\n",
              "    [theme=dark] .colab-df-convert:hover {\n",
              "      background-color: #434B5C;\n",
              "      box-shadow: 0px 1px 3px 1px rgba(0, 0, 0, 0.15);\n",
              "      filter: drop-shadow(0px 1px 2px rgba(0, 0, 0, 0.3));\n",
              "      fill: #FFFFFF;\n",
              "    }\n",
              "  </style>\n",
              "\n",
              "      <script>\n",
              "        const buttonEl =\n",
              "          document.querySelector('#df-c5997b2b-e291-46be-b45b-b25106ec7bcd button.colab-df-convert');\n",
              "        buttonEl.style.display =\n",
              "          google.colab.kernel.accessAllowed ? 'block' : 'none';\n",
              "\n",
              "        async function convertToInteractive(key) {\n",
              "          const element = document.querySelector('#df-c5997b2b-e291-46be-b45b-b25106ec7bcd');\n",
              "          const dataTable =\n",
              "            await google.colab.kernel.invokeFunction('convertToInteractive',\n",
              "                                                     [key], {});\n",
              "          if (!dataTable) return;\n",
              "\n",
              "          const docLinkHtml = 'Like what you see? Visit the ' +\n",
              "            '<a target=\"_blank\" href=https://colab.research.google.com/notebooks/data_table.ipynb>data table notebook</a>'\n",
              "            + ' to learn more about interactive tables.';\n",
              "          element.innerHTML = '';\n",
              "          dataTable['output_type'] = 'display_data';\n",
              "          await google.colab.output.renderOutput(dataTable, element);\n",
              "          const docLink = document.createElement('div');\n",
              "          docLink.innerHTML = docLinkHtml;\n",
              "          element.appendChild(docLink);\n",
              "        }\n",
              "      </script>\n",
              "    </div>\n",
              "  </div>\n",
              "  "
            ]
          },
          "metadata": {},
          "execution_count": 123
        }
      ]
    },
    {
      "cell_type": "code",
      "source": [
        "car_data.rename(columns={'msrp':'price'},inplace=True)"
      ],
      "metadata": {
        "id": "6GqDo8jPRAKk"
      },
      "execution_count": 124,
      "outputs": []
    },
    {
      "cell_type": "markdown",
      "source": [
        "Exploratory Data Analysis\n"
      ],
      "metadata": {
        "id": "1h0tQe_JS_sa"
      }
    },
    {
      "cell_type": "code",
      "source": [
        "pd.options.display.float_format = '{:,.2f}'.format\n",
        "car_data.describe()\n"
      ],
      "metadata": {
        "colab": {
          "base_uri": "https://localhost:8080/",
          "height": 300
        },
        "id": "_xRwsacKSFqO",
        "outputId": "9245cf6c-fbea-475e-db68-4a1ea93f5ac4"
      },
      "execution_count": 125,
      "outputs": [
        {
          "output_type": "execute_result",
          "data": {
            "text/plain": [
              "           year  engine_hp  engine_cylinders  number_of_doors  highway_mpg  \\\n",
              "count 11,914.00  11,845.00         11,884.00        11,908.00    11,914.00   \n",
              "mean   2,010.38     249.39              5.63             3.44        26.64   \n",
              "std        7.58     109.19              1.78             0.88         8.86   \n",
              "min    1,990.00      55.00              0.00             2.00        12.00   \n",
              "25%    2,007.00     170.00              4.00             2.00        22.00   \n",
              "50%    2,015.00     227.00              6.00             4.00        26.00   \n",
              "75%    2,016.00     300.00              6.00             4.00        30.00   \n",
              "max    2,017.00   1,001.00             16.00             4.00       354.00   \n",
              "\n",
              "       city_mpg  popularity        price  log_price  \n",
              "count 11,914.00   11,914.00    11,914.00  11,914.00  \n",
              "mean      19.73    1,554.91    40,594.74      10.11  \n",
              "std        8.99    1,441.86    60,109.10       1.11  \n",
              "min        7.00        2.00     2,000.00       7.60  \n",
              "25%       16.00      549.00    21,000.00       9.95  \n",
              "50%       18.00    1,385.00    29,995.00      10.31  \n",
              "75%       22.00    2,009.00    42,231.25      10.65  \n",
              "max      137.00    5,657.00 2,065,902.00      14.54  "
            ],
            "text/html": [
              "\n",
              "  <div id=\"df-f92f5811-6fcd-4a69-9ae2-be9f6e697083\">\n",
              "    <div class=\"colab-df-container\">\n",
              "      <div>\n",
              "<style scoped>\n",
              "    .dataframe tbody tr th:only-of-type {\n",
              "        vertical-align: middle;\n",
              "    }\n",
              "\n",
              "    .dataframe tbody tr th {\n",
              "        vertical-align: top;\n",
              "    }\n",
              "\n",
              "    .dataframe thead th {\n",
              "        text-align: right;\n",
              "    }\n",
              "</style>\n",
              "<table border=\"1\" class=\"dataframe\">\n",
              "  <thead>\n",
              "    <tr style=\"text-align: right;\">\n",
              "      <th></th>\n",
              "      <th>year</th>\n",
              "      <th>engine_hp</th>\n",
              "      <th>engine_cylinders</th>\n",
              "      <th>number_of_doors</th>\n",
              "      <th>highway_mpg</th>\n",
              "      <th>city_mpg</th>\n",
              "      <th>popularity</th>\n",
              "      <th>price</th>\n",
              "      <th>log_price</th>\n",
              "    </tr>\n",
              "  </thead>\n",
              "  <tbody>\n",
              "    <tr>\n",
              "      <th>count</th>\n",
              "      <td>11,914.00</td>\n",
              "      <td>11,845.00</td>\n",
              "      <td>11,884.00</td>\n",
              "      <td>11,908.00</td>\n",
              "      <td>11,914.00</td>\n",
              "      <td>11,914.00</td>\n",
              "      <td>11,914.00</td>\n",
              "      <td>11,914.00</td>\n",
              "      <td>11,914.00</td>\n",
              "    </tr>\n",
              "    <tr>\n",
              "      <th>mean</th>\n",
              "      <td>2,010.38</td>\n",
              "      <td>249.39</td>\n",
              "      <td>5.63</td>\n",
              "      <td>3.44</td>\n",
              "      <td>26.64</td>\n",
              "      <td>19.73</td>\n",
              "      <td>1,554.91</td>\n",
              "      <td>40,594.74</td>\n",
              "      <td>10.11</td>\n",
              "    </tr>\n",
              "    <tr>\n",
              "      <th>std</th>\n",
              "      <td>7.58</td>\n",
              "      <td>109.19</td>\n",
              "      <td>1.78</td>\n",
              "      <td>0.88</td>\n",
              "      <td>8.86</td>\n",
              "      <td>8.99</td>\n",
              "      <td>1,441.86</td>\n",
              "      <td>60,109.10</td>\n",
              "      <td>1.11</td>\n",
              "    </tr>\n",
              "    <tr>\n",
              "      <th>min</th>\n",
              "      <td>1,990.00</td>\n",
              "      <td>55.00</td>\n",
              "      <td>0.00</td>\n",
              "      <td>2.00</td>\n",
              "      <td>12.00</td>\n",
              "      <td>7.00</td>\n",
              "      <td>2.00</td>\n",
              "      <td>2,000.00</td>\n",
              "      <td>7.60</td>\n",
              "    </tr>\n",
              "    <tr>\n",
              "      <th>25%</th>\n",
              "      <td>2,007.00</td>\n",
              "      <td>170.00</td>\n",
              "      <td>4.00</td>\n",
              "      <td>2.00</td>\n",
              "      <td>22.00</td>\n",
              "      <td>16.00</td>\n",
              "      <td>549.00</td>\n",
              "      <td>21,000.00</td>\n",
              "      <td>9.95</td>\n",
              "    </tr>\n",
              "    <tr>\n",
              "      <th>50%</th>\n",
              "      <td>2,015.00</td>\n",
              "      <td>227.00</td>\n",
              "      <td>6.00</td>\n",
              "      <td>4.00</td>\n",
              "      <td>26.00</td>\n",
              "      <td>18.00</td>\n",
              "      <td>1,385.00</td>\n",
              "      <td>29,995.00</td>\n",
              "      <td>10.31</td>\n",
              "    </tr>\n",
              "    <tr>\n",
              "      <th>75%</th>\n",
              "      <td>2,016.00</td>\n",
              "      <td>300.00</td>\n",
              "      <td>6.00</td>\n",
              "      <td>4.00</td>\n",
              "      <td>30.00</td>\n",
              "      <td>22.00</td>\n",
              "      <td>2,009.00</td>\n",
              "      <td>42,231.25</td>\n",
              "      <td>10.65</td>\n",
              "    </tr>\n",
              "    <tr>\n",
              "      <th>max</th>\n",
              "      <td>2,017.00</td>\n",
              "      <td>1,001.00</td>\n",
              "      <td>16.00</td>\n",
              "      <td>4.00</td>\n",
              "      <td>354.00</td>\n",
              "      <td>137.00</td>\n",
              "      <td>5,657.00</td>\n",
              "      <td>2,065,902.00</td>\n",
              "      <td>14.54</td>\n",
              "    </tr>\n",
              "  </tbody>\n",
              "</table>\n",
              "</div>\n",
              "      <button class=\"colab-df-convert\" onclick=\"convertToInteractive('df-f92f5811-6fcd-4a69-9ae2-be9f6e697083')\"\n",
              "              title=\"Convert this dataframe to an interactive table.\"\n",
              "              style=\"display:none;\">\n",
              "        \n",
              "  <svg xmlns=\"http://www.w3.org/2000/svg\" height=\"24px\"viewBox=\"0 0 24 24\"\n",
              "       width=\"24px\">\n",
              "    <path d=\"M0 0h24v24H0V0z\" fill=\"none\"/>\n",
              "    <path d=\"M18.56 5.44l.94 2.06.94-2.06 2.06-.94-2.06-.94-.94-2.06-.94 2.06-2.06.94zm-11 1L8.5 8.5l.94-2.06 2.06-.94-2.06-.94L8.5 2.5l-.94 2.06-2.06.94zm10 10l.94 2.06.94-2.06 2.06-.94-2.06-.94-.94-2.06-.94 2.06-2.06.94z\"/><path d=\"M17.41 7.96l-1.37-1.37c-.4-.4-.92-.59-1.43-.59-.52 0-1.04.2-1.43.59L10.3 9.45l-7.72 7.72c-.78.78-.78 2.05 0 2.83L4 21.41c.39.39.9.59 1.41.59.51 0 1.02-.2 1.41-.59l7.78-7.78 2.81-2.81c.8-.78.8-2.07 0-2.86zM5.41 20L4 18.59l7.72-7.72 1.47 1.35L5.41 20z\"/>\n",
              "  </svg>\n",
              "      </button>\n",
              "      \n",
              "  <style>\n",
              "    .colab-df-container {\n",
              "      display:flex;\n",
              "      flex-wrap:wrap;\n",
              "      gap: 12px;\n",
              "    }\n",
              "\n",
              "    .colab-df-convert {\n",
              "      background-color: #E8F0FE;\n",
              "      border: none;\n",
              "      border-radius: 50%;\n",
              "      cursor: pointer;\n",
              "      display: none;\n",
              "      fill: #1967D2;\n",
              "      height: 32px;\n",
              "      padding: 0 0 0 0;\n",
              "      width: 32px;\n",
              "    }\n",
              "\n",
              "    .colab-df-convert:hover {\n",
              "      background-color: #E2EBFA;\n",
              "      box-shadow: 0px 1px 2px rgba(60, 64, 67, 0.3), 0px 1px 3px 1px rgba(60, 64, 67, 0.15);\n",
              "      fill: #174EA6;\n",
              "    }\n",
              "\n",
              "    [theme=dark] .colab-df-convert {\n",
              "      background-color: #3B4455;\n",
              "      fill: #D2E3FC;\n",
              "    }\n",
              "\n",
              "    [theme=dark] .colab-df-convert:hover {\n",
              "      background-color: #434B5C;\n",
              "      box-shadow: 0px 1px 3px 1px rgba(0, 0, 0, 0.15);\n",
              "      filter: drop-shadow(0px 1px 2px rgba(0, 0, 0, 0.3));\n",
              "      fill: #FFFFFF;\n",
              "    }\n",
              "  </style>\n",
              "\n",
              "      <script>\n",
              "        const buttonEl =\n",
              "          document.querySelector('#df-f92f5811-6fcd-4a69-9ae2-be9f6e697083 button.colab-df-convert');\n",
              "        buttonEl.style.display =\n",
              "          google.colab.kernel.accessAllowed ? 'block' : 'none';\n",
              "\n",
              "        async function convertToInteractive(key) {\n",
              "          const element = document.querySelector('#df-f92f5811-6fcd-4a69-9ae2-be9f6e697083');\n",
              "          const dataTable =\n",
              "            await google.colab.kernel.invokeFunction('convertToInteractive',\n",
              "                                                     [key], {});\n",
              "          if (!dataTable) return;\n",
              "\n",
              "          const docLinkHtml = 'Like what you see? Visit the ' +\n",
              "            '<a target=\"_blank\" href=https://colab.research.google.com/notebooks/data_table.ipynb>data table notebook</a>'\n",
              "            + ' to learn more about interactive tables.';\n",
              "          element.innerHTML = '';\n",
              "          dataTable['output_type'] = 'display_data';\n",
              "          await google.colab.output.renderOutput(dataTable, element);\n",
              "          const docLink = document.createElement('div');\n",
              "          docLink.innerHTML = docLinkHtml;\n",
              "          element.appendChild(docLink);\n",
              "        }\n",
              "      </script>\n",
              "    </div>\n",
              "  </div>\n",
              "  "
            ]
          },
          "metadata": {},
          "execution_count": 125
        }
      ]
    },
    {
      "cell_type": "code",
      "source": [
        "car_data.describe(include=['O']) # including non numerical values (object)\n"
      ],
      "metadata": {
        "colab": {
          "base_uri": "https://localhost:8080/",
          "height": 175
        },
        "id": "g23D8aEwTdPU",
        "outputId": "6dd07408-7223-4bcf-d1da-9f748874c85b"
      },
      "execution_count": 126,
      "outputs": [
        {
          "output_type": "execute_result",
          "data": {
            "text/plain": [
              "             make           model  engine_fuel_type transmission_type  \\\n",
              "count       11914           11914             11911             11914   \n",
              "unique         48             914                10                 5   \n",
              "top     chevrolet  silverado_1500  regular_unleaded         automatic   \n",
              "freq         1123             156              7172              8266   \n",
              "\n",
              "            driven_wheels market_category vehicle_size vehicle_style  \n",
              "count               11914            8172        11914         11914  \n",
              "unique                  4              71            3            16  \n",
              "top     front_wheel_drive       crossover      compact         sedan  \n",
              "freq                 4787            1110         4764          3048  "
            ],
            "text/html": [
              "\n",
              "  <div id=\"df-cff1e888-005d-4007-b0d1-8d3a407f8229\">\n",
              "    <div class=\"colab-df-container\">\n",
              "      <div>\n",
              "<style scoped>\n",
              "    .dataframe tbody tr th:only-of-type {\n",
              "        vertical-align: middle;\n",
              "    }\n",
              "\n",
              "    .dataframe tbody tr th {\n",
              "        vertical-align: top;\n",
              "    }\n",
              "\n",
              "    .dataframe thead th {\n",
              "        text-align: right;\n",
              "    }\n",
              "</style>\n",
              "<table border=\"1\" class=\"dataframe\">\n",
              "  <thead>\n",
              "    <tr style=\"text-align: right;\">\n",
              "      <th></th>\n",
              "      <th>make</th>\n",
              "      <th>model</th>\n",
              "      <th>engine_fuel_type</th>\n",
              "      <th>transmission_type</th>\n",
              "      <th>driven_wheels</th>\n",
              "      <th>market_category</th>\n",
              "      <th>vehicle_size</th>\n",
              "      <th>vehicle_style</th>\n",
              "    </tr>\n",
              "  </thead>\n",
              "  <tbody>\n",
              "    <tr>\n",
              "      <th>count</th>\n",
              "      <td>11914</td>\n",
              "      <td>11914</td>\n",
              "      <td>11911</td>\n",
              "      <td>11914</td>\n",
              "      <td>11914</td>\n",
              "      <td>8172</td>\n",
              "      <td>11914</td>\n",
              "      <td>11914</td>\n",
              "    </tr>\n",
              "    <tr>\n",
              "      <th>unique</th>\n",
              "      <td>48</td>\n",
              "      <td>914</td>\n",
              "      <td>10</td>\n",
              "      <td>5</td>\n",
              "      <td>4</td>\n",
              "      <td>71</td>\n",
              "      <td>3</td>\n",
              "      <td>16</td>\n",
              "    </tr>\n",
              "    <tr>\n",
              "      <th>top</th>\n",
              "      <td>chevrolet</td>\n",
              "      <td>silverado_1500</td>\n",
              "      <td>regular_unleaded</td>\n",
              "      <td>automatic</td>\n",
              "      <td>front_wheel_drive</td>\n",
              "      <td>crossover</td>\n",
              "      <td>compact</td>\n",
              "      <td>sedan</td>\n",
              "    </tr>\n",
              "    <tr>\n",
              "      <th>freq</th>\n",
              "      <td>1123</td>\n",
              "      <td>156</td>\n",
              "      <td>7172</td>\n",
              "      <td>8266</td>\n",
              "      <td>4787</td>\n",
              "      <td>1110</td>\n",
              "      <td>4764</td>\n",
              "      <td>3048</td>\n",
              "    </tr>\n",
              "  </tbody>\n",
              "</table>\n",
              "</div>\n",
              "      <button class=\"colab-df-convert\" onclick=\"convertToInteractive('df-cff1e888-005d-4007-b0d1-8d3a407f8229')\"\n",
              "              title=\"Convert this dataframe to an interactive table.\"\n",
              "              style=\"display:none;\">\n",
              "        \n",
              "  <svg xmlns=\"http://www.w3.org/2000/svg\" height=\"24px\"viewBox=\"0 0 24 24\"\n",
              "       width=\"24px\">\n",
              "    <path d=\"M0 0h24v24H0V0z\" fill=\"none\"/>\n",
              "    <path d=\"M18.56 5.44l.94 2.06.94-2.06 2.06-.94-2.06-.94-.94-2.06-.94 2.06-2.06.94zm-11 1L8.5 8.5l.94-2.06 2.06-.94-2.06-.94L8.5 2.5l-.94 2.06-2.06.94zm10 10l.94 2.06.94-2.06 2.06-.94-2.06-.94-.94-2.06-.94 2.06-2.06.94z\"/><path d=\"M17.41 7.96l-1.37-1.37c-.4-.4-.92-.59-1.43-.59-.52 0-1.04.2-1.43.59L10.3 9.45l-7.72 7.72c-.78.78-.78 2.05 0 2.83L4 21.41c.39.39.9.59 1.41.59.51 0 1.02-.2 1.41-.59l7.78-7.78 2.81-2.81c.8-.78.8-2.07 0-2.86zM5.41 20L4 18.59l7.72-7.72 1.47 1.35L5.41 20z\"/>\n",
              "  </svg>\n",
              "      </button>\n",
              "      \n",
              "  <style>\n",
              "    .colab-df-container {\n",
              "      display:flex;\n",
              "      flex-wrap:wrap;\n",
              "      gap: 12px;\n",
              "    }\n",
              "\n",
              "    .colab-df-convert {\n",
              "      background-color: #E8F0FE;\n",
              "      border: none;\n",
              "      border-radius: 50%;\n",
              "      cursor: pointer;\n",
              "      display: none;\n",
              "      fill: #1967D2;\n",
              "      height: 32px;\n",
              "      padding: 0 0 0 0;\n",
              "      width: 32px;\n",
              "    }\n",
              "\n",
              "    .colab-df-convert:hover {\n",
              "      background-color: #E2EBFA;\n",
              "      box-shadow: 0px 1px 2px rgba(60, 64, 67, 0.3), 0px 1px 3px 1px rgba(60, 64, 67, 0.15);\n",
              "      fill: #174EA6;\n",
              "    }\n",
              "\n",
              "    [theme=dark] .colab-df-convert {\n",
              "      background-color: #3B4455;\n",
              "      fill: #D2E3FC;\n",
              "    }\n",
              "\n",
              "    [theme=dark] .colab-df-convert:hover {\n",
              "      background-color: #434B5C;\n",
              "      box-shadow: 0px 1px 3px 1px rgba(0, 0, 0, 0.15);\n",
              "      filter: drop-shadow(0px 1px 2px rgba(0, 0, 0, 0.3));\n",
              "      fill: #FFFFFF;\n",
              "    }\n",
              "  </style>\n",
              "\n",
              "      <script>\n",
              "        const buttonEl =\n",
              "          document.querySelector('#df-cff1e888-005d-4007-b0d1-8d3a407f8229 button.colab-df-convert');\n",
              "        buttonEl.style.display =\n",
              "          google.colab.kernel.accessAllowed ? 'block' : 'none';\n",
              "\n",
              "        async function convertToInteractive(key) {\n",
              "          const element = document.querySelector('#df-cff1e888-005d-4007-b0d1-8d3a407f8229');\n",
              "          const dataTable =\n",
              "            await google.colab.kernel.invokeFunction('convertToInteractive',\n",
              "                                                     [key], {});\n",
              "          if (!dataTable) return;\n",
              "\n",
              "          const docLinkHtml = 'Like what you see? Visit the ' +\n",
              "            '<a target=\"_blank\" href=https://colab.research.google.com/notebooks/data_table.ipynb>data table notebook</a>'\n",
              "            + ' to learn more about interactive tables.';\n",
              "          element.innerHTML = '';\n",
              "          dataTable['output_type'] = 'display_data';\n",
              "          await google.colab.output.renderOutput(dataTable, element);\n",
              "          const docLink = document.createElement('div');\n",
              "          docLink.innerHTML = docLinkHtml;\n",
              "          element.appendChild(docLink);\n",
              "        }\n",
              "      </script>\n",
              "    </div>\n",
              "  </div>\n",
              "  "
            ]
          },
          "metadata": {},
          "execution_count": 126
        }
      ]
    },
    {
      "cell_type": "code",
      "source": [
        "# Target variable analysis (price)\n",
        "plt.figure(figsize=(10, 5))\n",
        "\n",
        "sns.histplot(car_data.price,bins=40)\n",
        "plt.ylabel('frequency')\n",
        "plt.xlabel('price')\n",
        "plt.title('Distribuation of prices')\n",
        "plt.show()"
      ],
      "metadata": {
        "colab": {
          "base_uri": "https://localhost:8080/",
          "height": 350
        },
        "id": "kNpbmYimUIBy",
        "outputId": "982c14db-b597-4ec6-f18f-d317e54e0f03"
      },
      "execution_count": 127,
      "outputs": [
        {
          "output_type": "display_data",
          "data": {
            "text/plain": [
              "<Figure size 720x360 with 1 Axes>"
            ],
            "image/png": "[encoded data removed]"
          },
          "metadata": {
            "needs_background": "light"
          }
        }
      ]
    },
    {
      "cell_type": "markdown",
      "source": [
        "\n",
        "This is a long tail distribution, which is a typical situation for many items with low prices and very few expensive ones.\n",
        "\n",
        "We can have a closer look by zooming in a bit and looking at values below $100,000\n"
      ],
      "metadata": {
        "id": "XviDbswOWWQE"
      }
    },
    {
      "cell_type": "code",
      "source": [
        "plt.figure(figsize=(10, 5))\n",
        "\n",
        "sns.histplot(car_data.price[car_data.price<100000],bins=40)\n",
        "plt.ylabel('frequency')\n",
        "plt.xlabel('price')\n",
        "plt.title('Distribuation of prices')\n",
        "plt.show()"
      ],
      "metadata": {
        "colab": {
          "base_uri": "https://localhost:8080/",
          "height": 350
        },
        "id": "l5dXXe0WVw2l",
        "outputId": "47570c03-97e1-4af2-b3bb-bf81a2dc5357"
      },
      "execution_count": 128,
      "outputs": [
        {
          "output_type": "display_data",
          "data": {
            "text/plain": [
              "<Figure size 720x360 with 1 Axes>"
            ],
            "image/png": "[encoded data removed]"
          },
          "metadata": {
            "needs_background": "light"
          }
        }
      ]
    },
    {
      "cell_type": "markdown",
      "source": [
        "The long tail makes it quite difficult for us to see the distribution, but it has an even stronger effect on a model: such distribution can greatly confuse the model, so it won’t learn well enough.\n",
        "\n",
        "One way to solve this problem is log transformation. "
      ],
      "metadata": {
        "id": "920kGdlxXVXp"
      }
    },
    {
      "cell_type": "markdown",
      "source": [
        "Log Transformation\n"
      ],
      "metadata": {
        "id": "SH1f4WweXblx"
      }
    },
    {
      "cell_type": "code",
      "source": [
        "car_data['log_price']=np.log1p(car_data['price'])"
      ],
      "metadata": {
        "id": "zNZth6z1XBhH"
      },
      "execution_count": 129,
      "outputs": []
    },
    {
      "cell_type": "code",
      "source": [
        "car_data.head()"
      ],
      "metadata": {
        "colab": {
          "base_uri": "https://localhost:8080/",
          "height": 288
        },
        "id": "FJ65ZsO3dJNg",
        "outputId": "2faa6a3b-43f2-4cd4-a69f-f5a9b3236cb0"
      },
      "execution_count": 130,
      "outputs": [
        {
          "output_type": "execute_result",
          "data": {
            "text/plain": [
              "  make       model  year             engine_fuel_type  engine_hp  \\\n",
              "0  bmw  1_series_m  2011  premium_unleaded_(required)     335.00   \n",
              "1  bmw    1_series  2011  premium_unleaded_(required)     300.00   \n",
              "2  bmw    1_series  2011  premium_unleaded_(required)     300.00   \n",
              "3  bmw    1_series  2011  premium_unleaded_(required)     230.00   \n",
              "4  bmw    1_series  2011  premium_unleaded_(required)     230.00   \n",
              "\n",
              "   engine_cylinders transmission_type     driven_wheels  number_of_doors  \\\n",
              "0              6.00            manual  rear_wheel_drive             2.00   \n",
              "1              6.00            manual  rear_wheel_drive             2.00   \n",
              "2              6.00            manual  rear_wheel_drive             2.00   \n",
              "3              6.00            manual  rear_wheel_drive             2.00   \n",
              "4              6.00            manual  rear_wheel_drive             2.00   \n",
              "\n",
              "                         market_category vehicle_size vehicle_style  \\\n",
              "0  factory_tuner,luxury,high-performance      compact         coupe   \n",
              "1                     luxury,performance      compact   convertible   \n",
              "2                luxury,high-performance      compact         coupe   \n",
              "3                     luxury,performance      compact         coupe   \n",
              "4                                 luxury      compact   convertible   \n",
              "\n",
              "   highway_mpg  city_mpg  popularity  price  log_price  \n",
              "0           26        19        3916  46135      10.74  \n",
              "1           28        19        3916  40650      10.61  \n",
              "2           28        20        3916  36350      10.50  \n",
              "3           28        18        3916  29450      10.29  \n",
              "4           28        18        3916  34500      10.45  "
            ],
            "text/html": [
              "\n",
              "  <div id=\"df-c2f90e9d-5dc1-423e-98c5-22534afd320c\">\n",
              "    <div class=\"colab-df-container\">\n",
              "      <div>\n",
              "<style scoped>\n",
              "    .dataframe tbody tr th:only-of-type {\n",
              "        vertical-align: middle;\n",
              "    }\n",
              "\n",
              "    .dataframe tbody tr th {\n",
              "        vertical-align: top;\n",
              "    }\n",
              "\n",
              "    .dataframe thead th {\n",
              "        text-align: right;\n",
              "    }\n",
              "</style>\n",
              "<table border=\"1\" class=\"dataframe\">\n",
              "  <thead>\n",
              "    <tr style=\"text-align: right;\">\n",
              "      <th></th>\n",
              "      <th>make</th>\n",
              "      <th>model</th>\n",
              "      <th>year</th>\n",
              "      <th>engine_fuel_type</th>\n",
              "      <th>engine_hp</th>\n",
              "      <th>engine_cylinders</th>\n",
              "      <th>transmission_type</th>\n",
              "      <th>driven_wheels</th>\n",
              "      <th>number_of_doors</th>\n",
              "      <th>market_category</th>\n",
              "      <th>vehicle_size</th>\n",
              "      <th>vehicle_style</th>\n",
              "      <th>highway_mpg</th>\n",
              "      <th>city_mpg</th>\n",
              "      <th>popularity</th>\n",
              "      <th>price</th>\n",
              "      <th>log_price</th>\n",
              "    </tr>\n",
              "  </thead>\n",
              "  <tbody>\n",
              "    <tr>\n",
              "      <th>0</th>\n",
              "      <td>bmw</td>\n",
              "      <td>1_series_m</td>\n",
              "      <td>2011</td>\n",
              "      <td>premium_unleaded_(required)</td>\n",
              "      <td>335.00</td>\n",
              "      <td>6.00</td>\n",
              "      <td>manual</td>\n",
              "      <td>rear_wheel_drive</td>\n",
              "      <td>2.00</td>\n",
              "      <td>factory_tuner,luxury,high-performance</td>\n",
              "      <td>compact</td>\n",
              "      <td>coupe</td>\n",
              "      <td>26</td>\n",
              "      <td>19</td>\n",
              "      <td>3916</td>\n",
              "      <td>46135</td>\n",
              "      <td>10.74</td>\n",
              "    </tr>\n",
              "    <tr>\n",
              "      <th>1</th>\n",
              "      <td>bmw</td>\n",
              "      <td>1_series</td>\n",
              "      <td>2011</td>\n",
              "      <td>premium_unleaded_(required)</td>\n",
              "      <td>300.00</td>\n",
              "      <td>6.00</td>\n",
              "      <td>manual</td>\n",
              "      <td>rear_wheel_drive</td>\n",
              "      <td>2.00</td>\n",
              "      <td>luxury,performance</td>\n",
              "      <td>compact</td>\n",
              "      <td>convertible</td>\n",
              "      <td>28</td>\n",
              "      <td>19</td>\n",
              "      <td>3916</td>\n",
              "      <td>40650</td>\n",
              "      <td>10.61</td>\n",
              "    </tr>\n",
              "    <tr>\n",
              "      <th>2</th>\n",
              "      <td>bmw</td>\n",
              "      <td>1_series</td>\n",
              "      <td>2011</td>\n",
              "      <td>premium_unleaded_(required)</td>\n",
              "      <td>300.00</td>\n",
              "      <td>6.00</td>\n",
              "      <td>manual</td>\n",
              "      <td>rear_wheel_drive</td>\n",
              "      <td>2.00</td>\n",
              "      <td>luxury,high-performance</td>\n",
              "      <td>compact</td>\n",
              "      <td>coupe</td>\n",
              "      <td>28</td>\n",
              "      <td>20</td>\n",
              "      <td>3916</td>\n",
              "      <td>36350</td>\n",
              "      <td>10.50</td>\n",
              "    </tr>\n",
              "    <tr>\n",
              "      <th>3</th>\n",
              "      <td>bmw</td>\n",
              "      <td>1_series</td>\n",
              "      <td>2011</td>\n",
              "      <td>premium_unleaded_(required)</td>\n",
              "      <td>230.00</td>\n",
              "      <td>6.00</td>\n",
              "      <td>manual</td>\n",
              "      <td>rear_wheel_drive</td>\n",
              "      <td>2.00</td>\n",
              "      <td>luxury,performance</td>\n",
              "      <td>compact</td>\n",
              "      <td>coupe</td>\n",
              "      <td>28</td>\n",
              "      <td>18</td>\n",
              "      <td>3916</td>\n",
              "      <td>29450</td>\n",
              "      <td>10.29</td>\n",
              "    </tr>\n",
              "    <tr>\n",
              "      <th>4</th>\n",
              "      <td>bmw</td>\n",
              "      <td>1_series</td>\n",
              "      <td>2011</td>\n",
              "      <td>premium_unleaded_(required)</td>\n",
              "      <td>230.00</td>\n",
              "      <td>6.00</td>\n",
              "      <td>manual</td>\n",
              "      <td>rear_wheel_drive</td>\n",
              "      <td>2.00</td>\n",
              "      <td>luxury</td>\n",
              "      <td>compact</td>\n",
              "      <td>convertible</td>\n",
              "      <td>28</td>\n",
              "      <td>18</td>\n",
              "      <td>3916</td>\n",
              "      <td>34500</td>\n",
              "      <td>10.45</td>\n",
              "    </tr>\n",
              "  </tbody>\n",
              "</table>\n",
              "</div>\n",
              "      <button class=\"colab-df-convert\" onclick=\"convertToInteractive('df-c2f90e9d-5dc1-423e-98c5-22534afd320c')\"\n",
              "              title=\"Convert this dataframe to an interactive table.\"\n",
              "              style=\"display:none;\">\n",
              "        \n",
              "  <svg xmlns=\"http://www.w3.org/2000/svg\" height=\"24px\"viewBox=\"0 0 24 24\"\n",
              "       width=\"24px\">\n",
              "    <path d=\"M0 0h24v24H0V0z\" fill=\"none\"/>\n",
              "    <path d=\"M18.56 5.44l.94 2.06.94-2.06 2.06-.94-2.06-.94-.94-2.06-.94 2.06-2.06.94zm-11 1L8.5 8.5l.94-2.06 2.06-.94-2.06-.94L8.5 2.5l-.94 2.06-2.06.94zm10 10l.94 2.06.94-2.06 2.06-.94-2.06-.94-.94-2.06-.94 2.06-2.06.94z\"/><path d=\"M17.41 7.96l-1.37-1.37c-.4-.4-.92-.59-1.43-.59-.52 0-1.04.2-1.43.59L10.3 9.45l-7.72 7.72c-.78.78-.78 2.05 0 2.83L4 21.41c.39.39.9.59 1.41.59.51 0 1.02-.2 1.41-.59l7.78-7.78 2.81-2.81c.8-.78.8-2.07 0-2.86zM5.41 20L4 18.59l7.72-7.72 1.47 1.35L5.41 20z\"/>\n",
              "  </svg>\n",
              "      </button>\n",
              "      \n",
              "  <style>\n",
              "    .colab-df-container {\n",
              "      display:flex;\n",
              "      flex-wrap:wrap;\n",
              "      gap: 12px;\n",
              "    }\n",
              "\n",
              "    .colab-df-convert {\n",
              "      background-color: #E8F0FE;\n",
              "      border: none;\n",
              "      border-radius: 50%;\n",
              "      cursor: pointer;\n",
              "      display: none;\n",
              "      fill: #1967D2;\n",
              "      height: 32px;\n",
              "      padding: 0 0 0 0;\n",
              "      width: 32px;\n",
              "    }\n",
              "\n",
              "    .colab-df-convert:hover {\n",
              "      background-color: #E2EBFA;\n",
              "      box-shadow: 0px 1px 2px rgba(60, 64, 67, 0.3), 0px 1px 3px 1px rgba(60, 64, 67, 0.15);\n",
              "      fill: #174EA6;\n",
              "    }\n",
              "\n",
              "    [theme=dark] .colab-df-convert {\n",
              "      background-color: #3B4455;\n",
              "      fill: #D2E3FC;\n",
              "    }\n",
              "\n",
              "    [theme=dark] .colab-df-convert:hover {\n",
              "      background-color: #434B5C;\n",
              "      box-shadow: 0px 1px 3px 1px rgba(0, 0, 0, 0.15);\n",
              "      filter: drop-shadow(0px 1px 2px rgba(0, 0, 0, 0.3));\n",
              "      fill: #FFFFFF;\n",
              "    }\n",
              "  </style>\n",
              "\n",
              "      <script>\n",
              "        const buttonEl =\n",
              "          document.querySelector('#df-c2f90e9d-5dc1-423e-98c5-22534afd320c button.colab-df-convert');\n",
              "        buttonEl.style.display =\n",
              "          google.colab.kernel.accessAllowed ? 'block' : 'none';\n",
              "\n",
              "        async function convertToInteractive(key) {\n",
              "          const element = document.querySelector('#df-c2f90e9d-5dc1-423e-98c5-22534afd320c');\n",
              "          const dataTable =\n",
              "            await google.colab.kernel.invokeFunction('convertToInteractive',\n",
              "                                                     [key], {});\n",
              "          if (!dataTable) return;\n",
              "\n",
              "          const docLinkHtml = 'Like what you see? Visit the ' +\n",
              "            '<a target=\"_blank\" href=https://colab.research.google.com/notebooks/data_table.ipynb>data table notebook</a>'\n",
              "            + ' to learn more about interactive tables.';\n",
              "          element.innerHTML = '';\n",
              "          dataTable['output_type'] = 'display_data';\n",
              "          await google.colab.output.renderOutput(dataTable, element);\n",
              "          const docLink = document.createElement('div');\n",
              "          docLink.innerHTML = docLinkHtml;\n",
              "          element.appendChild(docLink);\n",
              "        }\n",
              "      </script>\n",
              "    </div>\n",
              "  </div>\n",
              "  "
            ]
          },
          "metadata": {},
          "execution_count": 130
        }
      ]
    },
    {
      "cell_type": "code",
      "source": [
        "plt.figure(figsize=(10, 5))\n",
        "\n",
        "sns.histplot(car_data.log_price, bins=40)\n",
        "plt.ylabel('Frequency')\n",
        "plt.xlabel('Log(Price + 1)')\n",
        "plt.title('Distribution of prices after log tranformation')\n",
        "\n",
        "plt.show()\n"
      ],
      "metadata": {
        "colab": {
          "base_uri": "https://localhost:8080/",
          "height": 350
        },
        "id": "nZctnZeGdL_9",
        "outputId": "716fba97-8623-42bc-8fe2-6486d4115bce"
      },
      "execution_count": 131,
      "outputs": [
        {
          "output_type": "display_data",
          "data": {
            "text/plain": [
              "<Figure size 720x360 with 1 Axes>"
            ],
            "image/png": "[encoded data removed]"
          },
          "metadata": {
            "needs_background": "light"
          }
        }
      ]
    },
    {
      "cell_type": "markdown",
      "source": [
        "The effect of the long tail is removed, and we can see the entire distribution in one plot.\n",
        "\n",
        "The +1 part is important in cases that have zeros. The logarithm of zero is minus infinity, but the logarithm of one is zero.\n",
        "\n",
        "For our specific case, zero values are not an issue—all the prices we have start at $2,000—but it’s still a convention that we follow.\n",
        "\n"
      ],
      "metadata": {
        "id": "_DcuFigvdY3e"
      }
    },
    {
      "cell_type": "code",
      "source": [
        "# What's the average price of BMW cars in the dataset?\n",
        "car_data.groupby('make').mean()['price']['bmw']"
      ],
      "metadata": {
        "colab": {
          "base_uri": "https://localhost:8080/"
        },
        "id": "eWvkXaSMdWtl",
        "outputId": "08ce59c3-3ba5-4b5d-89e9-0e69bc4eef31"
      },
      "execution_count": 132,
      "outputs": [
        {
          "output_type": "execute_result",
          "data": {
            "text/plain": [
              "61546.76347305389"
            ]
          },
          "metadata": {},
          "execution_count": 132
        }
      ]
    },
    {
      "cell_type": "code",
      "source": [
        "# Compare the average price for cars before / after year 2015\n",
        "print(car_data[car_data.year < 2015]['price'].mean())\n",
        "print(car_data[car_data.year == 2015]['price'].mean())\n",
        "print(car_data[car_data.year > 2015]['price'].mean())"
      ],
      "metadata": {
        "colab": {
          "base_uri": "https://localhost:8080/"
        },
        "id": "owTspfiUlbyb",
        "outputId": "f6438166-4be1-4d85-9118-ec4048b51b2e"
      },
      "execution_count": 133,
      "outputs": [
        {
          "output_type": "stream",
          "name": "stdout",
          "text": [
            "35457.18770062511\n",
            "46794.46129032258\n",
            "45027.61359477124\n"
          ]
        }
      ]
    },
    {
      "cell_type": "markdown",
      "source": [
        "we notice that the car prices are increased after 2015"
      ],
      "metadata": {
        "id": "skAsazddpa1u"
      }
    },
    {
      "cell_type": "markdown",
      "source": [
        "Data Splitting(train 60% , validation 20% , test 20%)"
      ],
      "metadata": {
        "id": "VUi1fhKRplzK"
      }
    },
    {
      "cell_type": "code",
      "source": [
        "np.random.seed(2)     # Fixes the random seed to make sure that the results are reproducible\n",
        "n=len(car_data)\n",
        "n_val = int(0.2 * n)\n",
        "n_test = int(0.2 * n)\n",
        "n_train = int(0.6 *n)\n",
        "\n"
      ],
      "metadata": {
        "id": "IG5I4li1o3-d"
      },
      "execution_count": 134,
      "outputs": []
    },
    {
      "cell_type": "code",
      "source": [
        "# shuffle the data randomly\n",
        "idx = np.arange(n)\n",
        "np.random.shuffle(idx)\n",
        "data_shuffled = car_data.iloc[idx]\n",
        "print(car_data.index)\n",
        "print(data_shuffled.index)\n"
      ],
      "metadata": {
        "colab": {
          "base_uri": "https://localhost:8080/"
        },
        "id": "Lj1RUkrMqB7v",
        "outputId": "54986374-d519-4a8d-ddee-8d14a7df9a46"
      },
      "execution_count": 135,
      "outputs": [
        {
          "output_type": "stream",
          "name": "stdout",
          "text": [
            "Int64Index([    0,     1,     2,     3,     4,     5,     6,     7,     8,\n",
            "                9,\n",
            "            ...\n",
            "            11904, 11905, 11906, 11907, 11908, 11909, 11910, 11911, 11912,\n",
            "            11913],\n",
            "           dtype='int64', length=11914)\n",
            "Int64Index([ 2735,  6720,  5878, 11190,  4554,  8001,  2882,   649,   616,\n",
            "             4459,\n",
            "            ...\n",
            "             6751,   433,  4770, 11527,  1099,  2514, 11798,  6637,  2575,\n",
            "             7336],\n",
            "           dtype='int64', length=11914)\n"
          ]
        }
      ]
    },
    {
      "cell_type": "code",
      "source": [
        "_train = data_shuffled.iloc[:n_train].copy()\n",
        "_val = data_shuffled.iloc[n_train:n_train+n_val].copy()\n",
        "_test = data_shuffled.iloc[n_train+n_val:].copy()\n"
      ],
      "metadata": {
        "id": "CqJKmfg8q3CG"
      },
      "execution_count": 136,
      "outputs": []
    },
    {
      "cell_type": "code",
      "source": [
        "# take the target labels of train , val. and test data\n",
        "y_train=_train.log_price.values\n",
        "y_val=_val.log_price.values\n",
        "y_test=_test.log_price.values"
      ],
      "metadata": {
        "id": "bsvtIvYNsMaY"
      },
      "execution_count": 137,
      "outputs": []
    },
    {
      "cell_type": "code",
      "source": [
        "# Baseline solution\n",
        "base = ['engine_hp', 'engine_cylinders', 'highway_mpg', 'city_mpg', 'popularity']   # Think about Numerical only (our features)\n",
        "#base = ['engine_hp', 'engine_cylinders']                                   # Think about High Correlation\n"
      ],
      "metadata": {
        "id": "ejkSYUTYtEoh"
      },
      "execution_count": 156,
      "outputs": []
    },
    {
      "cell_type": "code",
      "source": [
        "car_data[base].isnull().sum()\n"
      ],
      "metadata": {
        "colab": {
          "base_uri": "https://localhost:8080/"
        },
        "id": "mgbcypmkyRfM",
        "outputId": "dd8ec086-22e6-4438-ee6a-949a8f3f6cdd"
      },
      "execution_count": 157,
      "outputs": [
        {
          "output_type": "execute_result",
          "data": {
            "text/plain": [
              "engine_hp           69\n",
              "engine_cylinders    30\n",
              "highway_mpg          0\n",
              "city_mpg             0\n",
              "popularity           0\n",
              "dtype: int64"
            ]
          },
          "metadata": {},
          "execution_count": 157
        }
      ]
    },
    {
      "cell_type": "code",
      "source": [
        "# handalling the missing values with the mean value\n",
        "def handle_missing_value(car_data):\n",
        "  data=car_data[base]\n",
        "  data=data.fillna(data.mean())\n",
        "  data=data.values\n",
        "  return data"
      ],
      "metadata": {
        "id": "O6j3MiF7ySfr"
      },
      "execution_count": 158,
      "outputs": []
    },
    {
      "cell_type": "code",
      "source": [
        "handle_missing_value(car_data)"
      ],
      "metadata": {
        "colab": {
          "base_uri": "https://localhost:8080/"
        },
        "id": "CC7wSowPzApk",
        "outputId": "988ac280-2c30-4af0-a476-b3a92694ec2f"
      },
      "execution_count": 159,
      "outputs": [
        {
          "output_type": "execute_result",
          "data": {
            "text/plain": [
              "array([[ 335.,    6.,   26.,   19., 3916.],\n",
              "       [ 300.,    6.,   28.,   19., 3916.],\n",
              "       [ 300.,    6.,   28.,   20., 3916.],\n",
              "       ...,\n",
              "       [ 300.,    6.,   23.,   16.,  204.],\n",
              "       [ 300.,    6.,   23.,   16.,  204.],\n",
              "       [ 221.,    6.,   26.,   17.,   61.]])"
            ]
          },
          "metadata": {},
          "execution_count": 159
        }
      ]
    },
    {
      "cell_type": "markdown",
      "source": [
        "Linear Regression\n"
      ],
      "metadata": {
        "id": "X1C4x9cLziYc"
      }
    },
    {
      "cell_type": "code",
      "source": [
        "# we will use the equation (y=B0+B1.X) to predict the price of car\n",
        " # draw the correlation between the features each others\n",
        "plt.figure(figsize=(15,8))\n",
        "\n",
        "co=sns.heatmap(car_data.corr(),annot=True)"
      ],
      "metadata": {
        "colab": {
          "base_uri": "https://localhost:8080/",
          "height": 563
        },
        "id": "22QuZl_FzFJN",
        "outputId": "8a59e266-1541-4c20-d434-b714368a2b16"
      },
      "execution_count": 109,
      "outputs": [
        {
          "output_type": "display_data",
          "data": {
            "text/plain": [
              "<Figure size 1080x576 with 2 Axes>"
            ],
            "image/png": "[encoded data removed]"
          },
          "metadata": {
            "needs_background": "light"
          }
        }
      ]
    },
    {
      "cell_type": "markdown",
      "source": [
        "we will notice that the most impact features(has high correlation) are ['engine_hp', 'engine_cylinders', 'year']"
      ],
      "metadata": {
        "id": "dJXNb6ds0vsc"
      }
    },
    {
      "cell_type": "markdown",
      "source": [
        " we will use the normal equation train our models (wieghts : W0 , Wi) ||\n",
        "\n",
        "\n"
      ],
      "metadata": {
        "id": "2rA-4S6p1_Tr"
      }
    },
    {
      "cell_type": "markdown",
      "source": [
        "![image.png](data:image/png;base64,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)"
      ],
      "metadata": {
        "id": "WtH6_PCQ12ls"
      }
    },
    {
      "cell_type": "code",
      "source": [
        "from numpy.lib.shape_base import column_stack\n",
        "#   Formula = w0 x0 +sigma[0:n-1]{w[j]*xi[j]}  --> x0=1\n",
        "    \n",
        "def train_model(X,Y):\n",
        "  ones=np.ones(X.shape[0])\n",
        "  X=np.column_stack([ones,X])\n",
        "  XTX=X.T.dot(X)\n",
        "  X_INV=np.linalg.inv(XTX)\n",
        "  w=X_INV.dot(X.T.dot(Y))\n",
        "  w_0=w[0]\n",
        "  w=w[1:]\n",
        "  return w_0,w"
      ],
      "metadata": {
        "id": "UB88goIv0eVr"
      },
      "execution_count": 160,
      "outputs": []
    },
    {
      "cell_type": "code",
      "source": [
        "x_train=handle_missing_value(_train)\n",
        "w_0,w=train_model(x_train,y_train)"
      ],
      "metadata": {
        "id": "Ie6G0A055Ruc"
      },
      "execution_count": 111,
      "outputs": []
    },
    {
      "cell_type": "markdown",
      "source": [
        "now we are getting our parameters"
      ],
      "metadata": {
        "id": "uJJTC31Y69Jm"
      }
    },
    {
      "cell_type": "code",
      "source": [
        "# we will predict our model in training data\n",
        "y_pred=w_0+x_train.dot(w)"
      ],
      "metadata": {
        "id": "C2unVS9m579J"
      },
      "execution_count": 112,
      "outputs": []
    },
    {
      "cell_type": "markdown",
      "source": [
        "![image.png](data:image/png;base64,iVBORw0KGgoAAAANSUhEUgAAAZIAAAB9CAIAAAAHhXJOAAAgAElEQVR4nO2df1TT9f7HX35b4MwBkeYlXRNEs1GRo7RdxKsclpzjTGNaKRINb2XqbXZU0Eta6jFDuAdXyD1ljhKhbkhLneeacMEr4IqUy4yhTITRYDuIrI0f+wj7ePf9412fu7axDRhswPvxh2d89t778978fF6f9/v1fr2er0kWiwUwGFdkZWV9//33XV1dAzXw9/dvamqqr68fzVFhJiaTsNnCuMOkSZP4fP6CBQu8PRAMBmjeHgBmzLBu3br169d7exQYDPyftweAGTP09fV5ewgYDAA2WxgMZsyBzRYGgxljYLOFwWDGGNhsYTCYMQY2WxgMZoyBzRYGgxljYLOFwWDGGNhsYTCYMQY2WxgMZoyBzRYGgxljYLOFwWDGGNhsYTCYMQY2WxgMZoyBzRYGgxljYLOF8T4qlerVV19duXLlt99+i45UVVWlpKQ8//zzK1eulMlkJEl6d4QYnwLLBGK8jE6n+/DDDw8cOCCTyV588cWCggKtVtva2pqdnR0YGFhaWsrj8aRS6erVq709UoyvgGdbGC+jVCqjoqJYLNaUKVMAYNOmTXQ6PSsrKzAwEAAeffRRAJDL5QRBeHmgGJ8Bmy2MNyFJ8tKlS08//TQA3LhxAwBSUlJSUlJotN+tA/z9/b0zPoxPgs0WxpvQaLSNGzcuWrQIAHQ6HQAIhUI6nU41+PnnnwFg4cKF1gdHE6VS6ZXzjmlaWlpGdHaMzRbGy7BYLBqNplKpGhsbmUxmZGQk9RZJkoWFhQDw4IMPjv7ASJJMS0urrq4e/VOPA1atWtXS0uJm47y8vDVr1ixZsuTVV1/NysoyGo3O22OzhfEJrly5IpfLExISrA/29vbm5eUlJSWFhYUBgMur2YMQBJGent7X15eUlOROe5VKpdfrR3pUYwUWi5WZmTl79myXc9Wqqqo1a9Z0dnbu2bMnPz9/0aJFX375ZVBQUFZWlrOPWTAYNwAAiUQycv1nZmYCwNmzZ60PSqVSAMjJyUF/xsbGjtwAbJBIJHw+X6vVutO4pKQEAIRCoZvtJwgSiSQmJsbJb6JWqwUCQUlJic3BmJgYABCLxQN9EM+2MN7HaDS2trYCALpeKXJzc5lM5mOPPQYAhYWFzzzzzOiMp7y8XCQS7dq1KyQkxGXj0tLStLS01NTUxsbGtLQ0vONJIRQKORxORkbGQNPk1tbW4uLitLQ064kqi8USCoUAIJPJVCqVww9is4XxPmq1uqKiIjw8HAU9UNy9e3fWrFlz585VKpWff/55Wlra6Ixn48aNb731FtoocI5CodiwYUNycvL777//j3/8Q61W7969G1suCqFQKBaL6+rqHL47depUh8ejo6MBoLGxEW3IOMCTk0LM+AVGcpFYW1sbGhpq339nZyeXyw0NDeXz+Wq1eoTOboNEIgGA2tpaly0rKysZDIZUKqWOmM1mDoeTmppqMplGcoxjBoPBIBKJuFyuwWCwf9dsNhsMBvvfqra2FgA4HE5lZaXDbrHZwrjFiJot30Gr1YaGhgqFQncaZ2Zm2vhlLBaL2Wzes2fPQPfbBKSsrGywF8/BgwfRTM2hsbNgs4VxkwlittBUCxsdD2IwGJCvys32Wq2Ww+EwGAz7RwIF9m1hML9CEIRCoYDffCsYjxAYGMhms8G9wF2j0ZiRkVFTU3PixIm4uLiBmmGzhcH8Sk1Nzblz5zgcjrcHMt545JFHAODYsWPOmxEEcezYMbFYfPbsWeeZ89hsYTC/0tHR0djYuGLFCm8PZLwRERHBZrMrKiqctCFJMjs7+5NPPqmtreXz+c47xGYLgwEAIEkSbbcvX77cSTOCILKysp5//vmIiIiVK1c6zF8pLCycNGmSTCYbqbF6GpVKlZaW9vzzzwcEBGzbts0+gIMgiLS0tEmTJqG80cESGRkZFhbW0dExUBwWykm4ceNGaWkpyu4iSbK0tHSgdSU2WxgMAEBHR8eVK1cA4PHHHx+oDUmSW7ZsodPpFy5cKCwsVCqVNtlIAKDX6//2t7+N7Fg9il6v3759O4/Hu3DhglgsFovF2dnZNm1qamq+/PJLAOjv7x/aWR588EGNRlNfX2//ltFoPHTo0MyZMyUSCYvFQgfNZnNhYaHBYHDYG5YJxGAAAPr7+9VqtfM2MpksICBgy5YtAKDX6+l0ek1NjX0zdDA0NHQkxulxjhw5kpCQgPzfJpMJABobG23aEASh0WgAgDIrgyU4OBh+0/OwRq/XZ2Rk1NfX79q164cffgCA/v7+3t7ejo6Orq4ulItqDzZbGAwAQE9PT2NjI4PBGKiBXq8/fvx4Tk4O+tNoNDqcOyCbxeFw7r//fpu3ysvL1Wo1igbwEVpaWk6ePNnU1IT+vHnzJgAEBARYtyEIAsV/8ng8+x4KCwtDQkKWLVvm/ERIMe3OnTvWB/V6/f79+8VicXh4+BtvvEGdzmQytbe3i0SigZKr8CIRgwEAIElSp9Mxmcz77rvPYYPLly/PmTPn4YcfBgC9Xn/mzBkASE1NtWl24sQJAIiLi5sxY4b1cZVKtWrVqqysrIH8O17h+PHjmzdvRq+VSiVS6Vm6dKl1G4PBcOHCBQBYt26dzcdlMlliYuLp06ddql9Mnz4dAPr6+qwPXr58WSwWM5nMvr6+X37j7t27fn5+DAYD/dQOwbMtjIdpaWmxuTpHk2nTpqH1yNCYOXPmQG89+eSTUVFRSK1Qo9GcOnUKALZt22bTLD8/HwC4XK5NfiWTyXzrrbfmz58/b948Nwej0+n0er39rM1N3PkpBAIBNZ7q6mq5XB4eHm4TfKDX65HERXx8vM3Hn3zySaFQuHbtWpcneuihh+wP8vl8i8Xi/IMOwWYL42GQcJK3zi6RSIazCrNZH1lDuXVIkqypqenu7o6JiQkKCrJugzbaZsyYYZ8kTKfTMzIyBjWYgoKCnTt3Olm3OmHatGkfffSRy0gCSpTRaDSiUFv7+I/m5mYAQCGjNrBYLJRX4BK0SPTU8wybLYy7IH+tS4RCoY3Z4vP5u3btGtom1L1793p6ekwm0y+//AIAN2/evHXrVlNTk0O/EgCcO3cuNjZ2yJ7jrq4ul216e3tR5CSq1mH9Vnl5OQA8++yzqHLHMElMTHToTnIHGo02a9Ys99vX1dWdO3cOAF5//XXr4ygQAQB4PB6qUTI0kMHyVE0AbLYwHmbZsmUikUgsFlNHFAoFQRBOcjXcAZVK7O3tvXfvHroHlEqlTCazPhEAFBcX79mzZ8hmq7Oz02Wbe/fuyeVyAIiIiLB565tvvgEANpvt/krQCSEhIe4IfnkEgiDQjoT9l0K/cFxcnM2yd1C488O6D3bJY9zF/Yft3r17racJGo0mLS0NrUGGDI1Go9FogYGBwcHB6H6Oi4s7cuSIxWKpq6sTCATUYurAgQNDkG+m0+nh4eFtbW337t1z3vLy5csAwOPxbFaIJEmi9ZT1VIsgiLy8vCVLlgQEBCBdfB+E2iu0T6np6OgAgBkzZljL+et0ur179/7xj3+cO3eum/+tqJ/hGD5rsNnCeJ7g4ODs7Gxrb0hNTU1eXt4IicFHREScOnXqn//8J3LlFBcXt7e3D7YTf3//0NBQdz6IklQWLFhgY7YqKira2trCw8NR/TTEV1991d3dfenSpW3btiUmJvqm3jxBENeuXQMA+ziGoqIiAFi8eDG15DQajcgQX758ubGx8cCBA+7IIqIJMjZbGJ8mIiIiPT3d2p0sFotdJtMOh+jo6C+++GLPnj0AkJubO9iPMxgMZGdduo3RvTdz5swHHnjA+rhcLm9vb3/00UepZOyWlpZjx46hCAPkNevu7h7swEYHtBVov7ZFG6YcDofaY0X+u7i4OLRsBwB3zFZrayuDwUD62sMHmy3MSPHiiy+uWbPG+sjOnTurqqpG7ozBwcG7d+8+ePCgWCwerDJycHAw2lZDsdpO+NOf/gQATU1Nvb291MHy8vKCggIAYDKZlJ++rKxs69atNBpNoVBUVFQwGIwhO91GlICAAPTd0VKR4ujRo2hqGRISggrukiRZX1+PfgGUdDlnzhyX0Q8EQfzyyy8zZsx49tlnPTNijyiBYcY9MCSZQLPZbLN/z+FwOjs7R2KE1ggEgszMzMF+ChUKciltajKZUJQpkmM2GAwHDx7kcDgovpSqM4Rams1mi8WCLNoQhjRqqNVq5I5saGiwWCwNDQ0ikQhNG9lsdllZGdXSYDCgL5WcnAwATsT8KGpra8PDw7lcrqdGO8liF+5lNBpdeiUB4L777nvggQdsip7bQ5Kk/aYynU4fVJFh+yHdd999bq6TCYKwfvBanxoddzgSm0+5j/sDG1tMmjRpaCFRSqXyiSeesD6SnJz8+eefe25oDiAI4qmnnrp27dqgLjOlUvn222//+OOP7oRBfPvtt7m5uW1tbWFhYRs3bqTRaH/+85/b29u1Wq3N9l9LS8vWrVtlMpnJZPJWbW13IAji6NGj33zzTV9fX2ho6L59+06fPp2eni4QCI4fP25zVZeXlycnJ8+aNQttUDgnLy8vJSVFLBa//fbbHhmqrdFBSl1o6NZpotaVoHp7e3U63X//+9+333571apVs2bNcnKjdnR0pKenNzY2dnZ2UrE2fD7/7Nmzbg5Rp9MhmTEEh8N54IEHXn755TfffNO50dTpdEqlUiwWm0ymKVOm9PX13b17l8vlrl+/PjIykiTJQ4cOTZs2zeFPWVVVdfjw4Z6eHrTVTZ36oYceomJP+vr6enp6jEYjQRBoCwm1KSkpGU6g9jgjIiIiJydn69at1JEvvviCw+F46gp2CJ1Oz87ONhgMgzITERER0dHRZWVlJEm6fB6vXr3aet/t6NGj7e3tM2bMsA9ZaGpqkslkqamp999/P0mSHR0doxbWMCjodPqOHTt27NhBHXnvvfcAgM1m29/gV69e1Wg0H374IQDo9XrnT2sUhbt27VqPjdV+AmYymbRaLTVpBICcnBztb6jV6rq6urKyMqlUinLcRSKR86oqnZ2dWq22srKSzWaHh4cDAIPBcH9CKBQKka+UyWRKpVK1Wq3Vap1XRjGbzZWVlbGxsRwO5+zZsw0NDQaDQavV1tXV5eTkCAQCqVSKolGcqIajYVOpszExMejUnVao1eqGhoba2lqpVIpmInw+fyDd/jENDENL3mQyiUQi66vOSVEW74LWiQUFBQ7fNZvNZ8+eLSgoQCspCrVajTYxbcrTWiwWk8mEdgnQ921oaDh48OAIDX5oGAyGgoICqVRqs3gvKytDN7jNl7X8VpYVANBtWFBQYL2KdNiYw+F4cMzOfFvofyImJqaurs5hg8rKSrSe5/F4aLnrBK1WKxAIqFWGm+OTSqUSiQQ9nZxU8rABTeX27Nnj0J5WVlaiHz00NNRlV8grAW44Jurq6jgcjkgkGpfFpoZjtiwWS0NDg03AN4/H80H7bjabuVwuypWzRyqVIled9cVgNptRgktSUpL9XdDZ2RkaGsrhcNClKBKJrAuU+QLIqto8wlGhsIEu+7KyMgaDwePxLBaLVqsViUQDmQjLbyW7PfuUGnAnsaWlBclZcDicgbYtORwO5Zb7+uuvB57SAQBcvXqVw+FQodLuyCSqVKozZ85ER0ejxm7G6SqVypUrV/J4vLfeesvhxk10dPRzzz2Hxu+8K71ej3LiAeCFF15w3jgsLCwuLi4sLGzIua/jmHnz5m3evNnaPV9SUoLWID4FjUY7ePCgTCZzuOOJUhHhN3F0RFtbW0pKCofDSUtLc7i0/MMf/hAaGhoUFFRYWNjV1eVcJX30QX7G8PBw6zzKiooKsVjM4/Hsc8UBwM/Pb8qUKegmOnLkSGRkpH1sPUKv1xcWFqLy1J4c9ED2TCKR2D9YbDCZTKiiGQAIBALnBjI5ObmgoODs2bOoW5cbEKhz62Wak4koBbV15dy6o7WAy+deQ0MD5YZweWqLxSKRSAZaX4x1wBMFxzIzM20uP9/8uXg8XlJSkv2sGd0U1KVrMpmQsqBAILBfSVGo1erk5GQul+try0OEUCiMjY2lxm8wGNDd4XzdUFZWxufzY2Nj7dfFNs0AwMlcbGgM6Hdsbm7u7u5mMpnWIb829Pf3Ux7rOXPmOLePP/744zvvvNPT0zN37tyampqGhgbnSWrfffddYGBgSEjI+fPnAYDH4zkRFaFQKpXd3d0CgcB5Hil6sCxZssR5bwRBoIkeWlS6pLu7e/bs2e60nJhs27bt+++/Ly4upo4kJiY+88wzHsng8yDHjh1LSEj46quvbHZOk5KSmpub6+vr6XQ6QRCXLl26ePFiTk7OunXrnGzCsFiskd45HQ5ZWVn79++/cuVKW1tbb2/vqVOnenp6pFLp8uXLnWxoLFu2zKU0oE6n27Fjh0Qi8VSUKYXjRSJBEK2trQAwe/ZsJzXjTCYTpfO/fv16J6fR6/WTJ0+OjIycPn06SolAOopO2tfU1CChbpT0tGDBAiaT6eLbAKAsdnfgcDgu9/sqKyvRC3vJcJIkq6qqrJe6BEHYiDdibKDRaB988IHNwb/+9a9DK6wwcrBYrH379p08edIm4Y5Go+3duzcsLKylpeX27dscDuezzz7bsmXLmN44Dg4OTktLmzJlik6n6+rq2rBhw6effrp69erhx2pkZGRERkYmJCS43JYdNA7nYLW1tVwuF1wt/agV4p49e5xP6goKCpKSkiwWS2dnJ5q5oD+d9Iym4pWVlWjRJxaLXUwcLRaLxUKpTTpfJFZWVrpcnphMJsqLbL8EMJlMAoHAxuVfW1vrfFN17AKeq0qNfLTWZGZmutzSGWWQoz0mJmZcbrCMAmKxmMvljtCui+PZVnNzM1r9Ia+bQxQKRXp6OrJZ27dvd24cv/nmGzSlDA4ORss3J+JNCoXi9u3baAkpl8vRWnUgMXwbKNmz1157zUkeSXR0tPPpIQLdYOHh4fZSbTU1NQEBATYu/8jISN/M3vApoqOjqQceYufOncgV4DvQaDShULhp06bdu3d7eyxjj/Ly8tra2kuXLo1Q6LXjyRuSZANHEWJGo9FkMhUVFYlEIoFAsGnTJnd0lKqrqz/++GP0GoVrdnV16fV6+9k1QRA7d+5E2tUAgCJU58+fHxUV5c73obQZGxsbFy9eDABJSUkJCQkLFizw8/ObPn26+/NVKtp23bp1SAmbGiFBEIsXL7ZRehoUOp1uyLWbKMaoiaTT6UKhUKVSffHFF9TB9evXy+XygTakvMX69evdebxhbHDH8zUcHNzDOp3u3//+N3rd2tqKnFB3794FgK6ururq6lu3bi1YsEAikSQlJbljBRQKBY1Go7bkkAloa2u7fv26vePs0KFD1PNNp9MhmZ5Zs2a5GVgcGBgolUoPHDhAGZ38/HxK3jsxMZHP57t5t6MaBwDQ1dV1/vz5yZMn3717t6urS61Wf/bZZwwGw01Lag9BEBkZGcOxegDAZrMvX748RhOJQkJCXn/99R9//JFKnOju7t61a9fXX3/ty+kvGB/BgdHR6/WXLl0CAD6f/8svv1DyFCaTqbS0NC8vj8vlLl++3Imr3obKykrrWiAoUB5V6bBpWVVVNW3aNMpOK5VKVJYWfcRNVq9eHRoaWlxcXFxcbC3dK5fL5XJ5eXn5Bx984M7WFVKqRMtDpEaEzNatW7eam5vZbPaiRYvcH5U1dDp98+bNw8x1mDp1qo1wytgiOjo6PT09MTGROiKTyY4ePWqdXILBOMbe3UWJV9iHNZlMJhSAHh4e7k7mN8ImMri2thbF1tu4eLVabWpqqrXzm1LXH0KILYqpaWhokEgkNoUARCKRSxECyvXG4/Hq6urMZrPpNwwGQ3JyckxMzGCHNKax///yCPaRJe5fV5gJi+1siyRJaoVoH9ZEp9Pj4+MPHjyYnp6OQvtdmkUUyrBv3z7qCJPJZDAY7e3tNvLS58+fj4mJoeZBVH4yg8Fwf2ZnPVS0GJw3b55QKETZ7Tt37gQAiUSydu1a533+61//Qi+WLl362GOPIUVgquegoCD74kvjHjdLYAyK/Pz8CxcuWIvn7d+/PyQkZNScXNRiAuPjWPujbM0WijcDADab7bDOpbWXSqFQUDt3A6FQKCZPnuzn50cdCQ4ORmWdrH3SCoWiubn5lVdeoY5oNJrvv/8eANyRFiMIwmAwOPG4o+z21tZWsVjc3d3t0h2O1NHASiDNmp9++umjjz6yPkKS5MWLF+fOnTtG3eTegk6nX7lyZcmSJZQackVFxenTp0fNbO3YsWOYTkbMKBASEqLVaqk/bW9Ik8mE7lgej2dtayiMRiMl0oL85c5Rq9XPPfecTZoeqvV4+/Zto9GInMpisXjXrl3W7tiOjg4Uf7Bq1SqXZ6mpqSkqKtq7d6/zwD+hUOjmNXrr1i0ACA8PdxjjunHjRpv7qq2tTSwWW2+NjT+GU2/KCWFhYYcOHUpJSUF/MpnMp556aiRO5BA+nx8WFjZQJWqMj2BdgAPszRZygQMAn893uKdjMBj+85//oNcui8GhWibLli2zmbCw2eySkpJbt261t7cHBgbm5eW98MILNm5yyia6Y7YIgvD393e5CYUC9MPDw51bN5VKhUz7/PnzHT727TfFc3Nz4+Pj3YyWJknyhx9+GGZR9enTp8fHx3s+/njUodFor7zyyo0bNw4fPgwA+/btG80FeFxc3DAroWFGH9uLnkrWsY5UssZgMFDOL5f1ctva2urr619++WWb4yjiVKvVEgShUqnOnTuHVqYURqPx4sWL6LXLVERULsmdypEoAHXFihXOMwfr6+uR+sWcOXPcCbzQ6/X5+fnXr1932RJhNps/+eST4ZduNhgMYzQAwgaDwYDye1JTU4dTUxozQbCNkkdrKPsacBQ9PT2UA9XlLd3a2jplyhT7OQjKHLp586ZGo8nNzbW/gU0mE6Vh5PI7GAyGM2fO1NfXu5RR3rFjR0hICJ/Pd363NzY2IleLm6H5b7zxxksvveS+BaHT6SdOnBj+fsr4sFlGo/HIkSP5+fk8Hm+w5eYxE5PfmS2qiNvSpUsffvhhhx8YyJ9VWFhovynT0dHx1FNP2U/cHn/8cQDo7u5+77334uLi7Bd3er0eGUd38jD7+/srKiqKi4udzHdIkty7d69Op0tPT3e+KNDr9SiNnMlkulytkCSZl5dXXFyclpbmvKWv4Ts7aEePHj18+DCPx0Ml+TAY11g/vak4KSdpxkhAx+azdXV1bDbbJum0s7OTz+cPpGmFehCJRA6TLSlhJncyk5FOA5fLjY2NdRjhZTAYkGiXOym7tbW1SNLMpYws0gILCQlxqTXma5hMpsEKXcHIxG0h8Vgej+dErwqDsYEGv01tWltbv/zyS2QstFqtSqViMBj2IQXz589PTk5GW2YoqVChUOzcufPTTz9Fkya9Xq/RaDQaTWlpqUwm8/f3p9FoTCYzIiLCpisOhyMUCqmVDkEQGo0G/UuV56yqqjIYDEFBQTNnzhxo2lVUVMTj8TIzM5ubm9etW/faa6/Nnz+fxWJNnz6dIIiampry8nK5XC6VSvl8/kCd6PX6O3fudHR0nDlzBiUG+fv7t7S02BT7NJvNBoOho6OjsbHx2rVraHlLydqOFaRSaWJiotez7WQyWWJiYnh4+HvvvedrklsYnwbFxA/kXHf4TO7s7BSLxUgXgcvlCgSC2tpa9JbZbLZXsETYzINiY2NttGic1PJxomdvNpt5PB41ABRqbx21wOVyJRKJVqt1Yryt631Yw7DDvs2Yq3lBaQcNKvcAPD3bqqysRDlbvilwivFlcHnXCQflChCJRO5/yrNmq66uDpWwc1NGDYOxZsASGJhxSUtLi0KhQLPR+vp6o9E4+mPQ6XQZGRkVFRWpqakjWi0RM17BZmtiUVVVtXDhwnXr1gHAjRs3qBymUYMkyYyMjPz8fJFI9P7774/y2THjA2y2JhB6vV6hUMTHx3O5XAaDodFobty4Mcpj2L9/v1gsTkpKSktLw9JamKGBzdYE4vTp0zNnzgwODl6+fDnSDrp27dpolp/Iy8s7cOAAKik40gXldTqdy/BjzBgFm62JAkEQJ0+efP311wGATqejRIX8/HwqC3WkKSwsTElJYTKZEolkFAQeHnnkEYPBMNJnwXgFbLYmCk1NTX/5y1+oddmbb76JXmg0mlE4e3l5OSp7kZub61LsaPhkZWUlJSWN9IQO4zW8vZWJGT1sMgTQBcDn850HtVGNhxwA0dDQEBsbO5weBgUKAKRC+TDjDzzbmkDYZAggrQWZTGYtLupxCILYvn17WVlZZmamO4nxw0Qmk23evBmsSs9hxh/YbE1cRCIRejGiNQpfeuklmUwmEolSUlJGVB2MJMm0tLSVK1dqNJqBUjXGGd9++21ERERUVJS11q5er09LS1uyZElUVFRUVFReXp4XRzhSeHu6h/EaWq0WeX9CQkJc1l6GwS/xzGYzsoxJSUkua44MGZPJ1NnZaZMZNnKn8x1KSkqEQqHZbEbp6KgyfE5OTkxMDFVGRCqVAgCfz/fqSD3PmNfGxAyZoKCgrVu3pqen63Q6jUbj2WRmkiQ/+eQTVFH93XffdVP31U1Q6YDbt293dHRUV1d/9tlnlFA4AAiFwokgsrx///6PP/6YRqOh8gWlpaWTJ082Go3fffcdtfGyfPlygUBQXFzsTtmHMQQ2WxMXKgwCAI4fP+5Zib6LFy8eOXIEABYuXNjR0fHzzz8PoRNUVBgASJI0mUx9fX0mk+nevXt37txRq9WlpaUOg84SEhLGh4CiE5RKZWBgILJESN1bLpcvXLjw0KFD1kG8VA2HmpoabLYw44SHH36Yy+XK5fK///3vHjRbCoVCJBI1NjYCQElJyblz54bWD1IN6u/vN5lMbu4bcLnciaCBc+zYMUqzBKU6xMTEvPPOOzaJB21tbaiIsk0JibEONlsTmrCwMD6fL5fLu83medYAAAZNSURBVLu7q6qqhlCP0h6dTvf0009Tf1oXBh8FXnnllYlgtpYuXbp8+XL0GgmIc7lc+2J3N2/eRMvnuXPnjvIIRxRstiY0dDqdzWaj10VFRR4xW+fPn09KSvJWSaGoqCivnHeUWb16NXqhUCh++uknAHAoGFdfX9/c3BweHj5qdSdHB2y2JjpsNpvH46H6bwRBDD+9WSgU4uo7o4ZSqURivPaPHL1ej0RAkeDHeALHbU105s2bhyZcSqUSFWTDjCHu3LkDADExMfbPm+vXr6OIvI0bN3phZCMJNlsYWLhwIQA0NzePsh8KM0x0Oh2aT9mXmCJJUqVS6XQ6NptN+bxUKtX4UMXAZgsDK1asQLLuV65cGU0dG8wwaWpqQvOpNWvW2LzV0dFx7NgxAEAZ7ACgUChyc3Ox2cKME6gIoAsXLqBy3JgxAUEQ6DFjX4e4u7tbLpczGIwFCxagIyh0y7Nxv94Cmy0MAMCmTZsAoL29HcUuYnwfgiDQChHVYbLBbDYDwOrVq1G5qZaWloqKCqTDMQ7AZgsDALB06VL04ty5c3idOCYwGAxnzpwBgA0bNtiHm0ydOhUATCYTnU5XqVTZ2dkJCQn2gV1jFGy2MAAANBoNqcoUFxePqI4NxlP4+/sHBgZyOJxFixbZv8tisUpKSq5fv7548eKtW7euXbuWz+eP/iBHCGy2ML9C6Z2iZ7gH0el0KSkpMpnMs91SKJXKwsLCEercZwkODj579uzVq1cHEnGNi4tTKpVXr169cOGCRwKJfQdstjC/EhYWhvwgeXl5JEl6sOfz58/n5eU1NTV5fBtLr9dXVVW98847iYmJnu0Z48vgKHnMrwQFBW3btu3AgQP19fVNTU0ezOyLjY0tKChYtmyZByuMlZaWajQahUJRUVFRU1MTGhrqqZ4xvg+ebWF+hU6nL1myBL0+efKkB3tmsVjr16/3bEEKOp0+b948oVC4ffv20NBQz04PMT4ONluY/xESEsLhcADg008/9fZYXBAdHR0dHR0ZGclisSaCKCDGGmy2MP8jLCxsxYoVANDe3u6R+ol6vV6n0+n1+uF3hcFQYLOF+R90On3+/Pno9YkTJ4bZW1VVVUZGxpEjR55++mmcpI3xINglj/kdkZGRMTExFRUV9fX1JEkOWTZLpVJ99913mzdvZrFYhw8fLioqeuKJJyitZJVKNdgwi/7+/jVr1kwECUCMS/BsC/M7IiIikHvrxo0bFRUVQ+uEIIhTp05xOBwWi9XS0gIAAQEBfn5+VAN/f/8h7CpOmzZtaOPBjDPwbAtjC0qrbmxs/Omnn5YtWzaEHgiCCAwMRNHb2dnZABAaGmptp1gs1pYtWwa7/ectxVSMr4GvA4wtq1atYjKZGo2mtrZWp9MNIXAhODh4y5Yt6LVYLI6NjXWYxIvNEGZo4EUixpbg4GA04SotLR2mjg0qiRwdHT1ukngxvgB+3GEcsHHjRplMptFoVCrVcNLZysvL4TdlFYVCMXv2bOSVVyqVp0+fHlRXd+/eFQgE46nYH2bIYLOFcQBVzKq8vHzVqlVD05arqqq6evUqm81Gtqa4uHjDhg3IbE2dOjUkJGRQUhN+fn5MJnMIw8CMP7DZwjiATqejcj75+fnvvvvu0MyWSqWqr69PTU0FgKqqqq6uLmorkMVieaq6T39/f3d3t/U2JWbcg80WxjG7d+8uKSkBgJKSkqFFS3E4HA6HExgYqFAoioqKNm/e7EFFYBR8bzAYTp8+jeqblpaWPvroowDAZDI9mLON8UEmWSwWb48B44vodLpHHnkEADgczg8//HD//fdLJJLBTpGqqqrkcrmfn198fLxnI0VLS0urq6sBwM/PD021enp60FuJiYl4B2B8g80WxjEEQbz//vuHDx8GALVaPXv27CGYLQxmJMABEBjHIPcWel1UVOTdwWAw1mCzhRmQ6dOno0Sfjz76CAmfYjC+ADZbmAGZN29eXFwcAGg0GlwXA+M7YLOFGRA6nY7DOzE+CDZbGGdERERwuVxvjwKD+R3YbGGcERkZSQkHYjA+AjZbGBfExMR4ewgYzO/AZgvjgvj4eM8W3cFghgk2WxgXhISEREVFeXsUGMz/wGYL45p169Z5ewgYzP/AqdQY17z00kvV1dUOFUoxmNHn/wGUMKTUTIQhYQAAAABJRU5ErkJggg==)"
      ],
      "metadata": {
        "id": "sSkkCdxD7opB"
      }
    },
    {
      "cell_type": "code",
      "source": [
        "# to check our performance we will apply root mean squard error\n",
        "def Rmse(y,y_pred):\n",
        "   error=y-y_pred\n",
        "   error=(error**2).mean()\n",
        "   return np.sqrt(error)"
      ],
      "metadata": {
        "id": "HCJHVEXv7mnC"
      },
      "execution_count": 161,
      "outputs": []
    },
    {
      "cell_type": "code",
      "source": [
        "Rmse(y_train,y_pred)"
      ],
      "metadata": {
        "colab": {
          "base_uri": "https://localhost:8080/"
        },
        "id": "Bgn1EqKl8ljD",
        "outputId": "35aa3718-5db2-4041-801a-e9cda8fd16bf"
      },
      "execution_count": 114,
      "outputs": [
        {
          "output_type": "execute_result",
          "data": {
            "text/plain": [
              "0.7422105121434195"
            ]
          },
          "metadata": {},
          "execution_count": 114
        }
      ]
    },
    {
      "cell_type": "code",
      "source": [
        "# using validation set to compare rmse \n",
        "x_val=handle_missing_value(_val)\n",
        "y_val_pred=w_0+x_val.dot(w)\n",
        "Rmse(y_val,y_val_pred)"
      ],
      "metadata": {
        "colab": {
          "base_uri": "https://localhost:8080/"
        },
        "id": "c-Z0KYUa8yvY",
        "outputId": "2d9caa6e-d195-4dc7-93f5-40523f90589b"
      },
      "execution_count": 115,
      "outputs": [
        {
          "output_type": "execute_result",
          "data": {
            "text/plain": [
              "0.8050619382611415"
            ]
          },
          "metadata": {},
          "execution_count": 115
        }
      ]
    },
    {
      "cell_type": "markdown",
      "source": [
        "To improve our model, we can create other features and add them to the existing features. This process is called feature engineering.\n",
        "\n"
      ],
      "metadata": {
        "id": "MZyW7KQB-BUS"
      }
    },
    {
      "cell_type": "markdown",
      "source": [
        "    Our aim is to `improve the RMSE ` calculated on the validation data.\n"
      ],
      "metadata": {
        "id": "FxSYeY9m-GZQ"
      }
    },
    {
      "cell_type": "code",
      "source": [
        "# we will create feature engineering called age of cars\n",
        "def handle_missing_value(car_data):\n",
        "  car_data=car_data.copy()\n",
        "  feature=base.copy()\n",
        "  car_data['age_cars']=2017-car_data['year']\n",
        "  feature.append('age_cars')\n",
        "  data=car_data[feature]\n",
        "  data=data.fillna(data.mean())\n",
        "  data=data.values\n",
        "  return data\n"
      ],
      "metadata": {
        "id": "YLS70RvZ-fc_"
      },
      "execution_count": 162,
      "outputs": []
    },
    {
      "cell_type": "code",
      "source": [
        "x_train=handle_missing_value(_train)\n",
        "w_0,w=train_model(x_train,y_train)\n",
        "y_pred=w_0+x_train.dot(w)\n",
        "print('rmse_train:', Rmse(y_train,y_pred))\n",
        "\n",
        "x_val=handle_missing_value(_val)\n",
        "y_val_pred=w_0+x_val.dot(w)\n",
        "print('rmse_val:', Rmse(y_val,y_val_pred))\n"
      ],
      "metadata": {
        "colab": {
          "base_uri": "https://localhost:8080/"
        },
        "id": "AX6tA1QL_tPr",
        "outputId": "0f264c60-fd16-476e-b593-254736eb08a7"
      },
      "execution_count": 163,
      "outputs": [
        {
          "output_type": "stream",
          "name": "stdout",
          "text": [
            "rmse_train: 0.511783357099689\n",
            "rmse_val: 0.5069147355656647\n"
          ]
        }
      ]
    },
    {
      "cell_type": "markdown",
      "source": [
        "adding the age feature improved the performance quiet"
      ],
      "metadata": {
        "id": "pqvUhZQiCeIv"
      }
    },
    {
      "cell_type": "markdown",
      "source": [
        "Handling Categorical Variables\n"
      ],
      "metadata": {
        "id": "rX2TBPVRCyOV"
      }
    },
    {
      "cell_type": "code",
      "source": [
        "# adding the numbers of doors and make to our features\n",
        "def handle_missing_value(car_data):\n",
        "  car_data=car_data.copy()\n",
        "  feature=base.copy()\n",
        "  car_data['age_cars']=2017-car_data['year']\n",
        "  feature.append('age_cars')\n",
        "  for v in [2, 3, 4]:\n",
        "        feature1 = 'num_doors_%s' % v\n",
        "        car_data[feature1] = (car_data['number_of_doors'] == v).astype(int)\n",
        "        feature.append(feature1)\n",
        "\n",
        "  for v in ['chevrolet', 'ford', 'volkswagen', 'toyota', 'dodge']:\n",
        "        feature1 = 'is_make_%s' % v\n",
        "        car_data[feature1] = (car_data['make'] == v).astype(int)\n",
        "        feature.append(feature1)\n",
        "\n",
        "\n",
        "\n",
        "  data=car_data[feature]\n",
        "  data=data.fillna(data.mean())\n",
        "  data=data.values\n",
        "  return data"
      ],
      "metadata": {
        "id": "qne0u5_oAlOz"
      },
      "execution_count": 167,
      "outputs": []
    },
    {
      "cell_type": "code",
      "source": [
        "x_train=handle_missing_value(_train)\n",
        "w_0,w=train_model(x_train,y_train)\n",
        "y_pred=w_0+x_train.dot(w)\n",
        "print('rmse_train:', Rmse(y_train,y_pred))\n",
        "\n",
        "x_val=handle_missing_value(_val)\n",
        "y_val_pred=w_0+x_val.dot(w)\n",
        "print('rmse_val:', Rmse(y_val,y_val_pred))\n"
      ],
      "metadata": {
        "colab": {
          "base_uri": "https://localhost:8080/"
        },
        "id": "WfzlfE1SDqNu",
        "outputId": "d5983118-0195-4bfa-c217-81149b48099a"
      },
      "execution_count": 168,
      "outputs": [
        {
          "output_type": "stream",
          "name": "stdout",
          "text": [
            "rmse_train: 0.5011173271796298\n",
            "rmse_val: 0.49812258600743536\n"
          ]
        }
      ]
    },
    {
      "cell_type": "markdown",
      "source": [
        "performance is improved so we will add other categorical features"
      ],
      "metadata": {
        "id": "Rj9HgJ3uE1l2"
      }
    },
    {
      "cell_type": "code",
      "source": [
        "def handle_missing_value(car_data):\n",
        "  car_data=car_data.copy()\n",
        "  feature=base.copy()\n",
        "  car_data['age_cars']=2017-car_data['year']\n",
        "  feature.append('age_cars')\n",
        "  for v in [2, 3, 4]:\n",
        "        feature1 = 'num_doors_%s' % v\n",
        "        car_data[feature1] = (car_data['number_of_doors'] == v).astype(int)\n",
        "        feature.append(feature1)\n",
        "\n",
        "  for v in ['chevrolet', 'ford', 'volkswagen', 'toyota', 'dodge']:\n",
        "        feature1 = 'is_make_%s' % v\n",
        "        car_data[feature1] = (car_data['make'] == v).astype(int)\n",
        "        feature.append(feature1)\n",
        "  for v in ['regular_unleaded', 'premium_unleaded_(required)', \n",
        "              'premium_unleaded_(recommended)', 'flex-fuel_(unleaded/e85)']:\n",
        "        feature1 = 'is_make_%s' % v\n",
        "        car_data[feature1] = (car_data['engine_fuel_type'] == v).astype(int)\n",
        "        feature.append(feature1)\n",
        "  for v in ['automatic', 'manual', 'automated_manual']:\n",
        "        feature1 = 'is_make_%s' % v\n",
        "        car_data[feature1] = (car_data['transmission_type'] == v).astype(int)\n",
        "        feature.append(feature1)\n",
        "  for v in ['front_wheel_drive', 'rear_wheel_drive', 'all_wheel_drive', 'four_wheel_drive']:\n",
        "        feature1 = 'is_make_%s' % v\n",
        "        car_data[feature1] = (car_data['driven_wheels'] == v).astype(int)\n",
        "        feature.append(feature1)\n",
        "  for v in ['crossover', 'flex_fuel', 'luxury', 'luxury,performance', 'hatchback']:\n",
        "        feature1 = 'is_make_%s' % v\n",
        "        car_data[feature1] = (car_data['market_category'] == v).astype(int)\n",
        "        feature.append(feature1)\n",
        "\n",
        "\n",
        "  data=car_data[feature]\n",
        "  data=data.fillna(data.mean())\n",
        "  data=data.values\n",
        "  return data"
      ],
      "metadata": {
        "id": "ijK_wVS0D6Hr"
      },
      "execution_count": 169,
      "outputs": []
    },
    {
      "cell_type": "code",
      "source": [
        "x_train=handle_missing_value(_train)\n",
        "w_0,w=train_model(x_train,y_train)\n",
        "y_pred=w_0+x_train.dot(w)\n",
        "print('rmse_train:', Rmse(y_train,y_pred))\n",
        "\n",
        "x_val=handle_missing_value(_val)\n",
        "y_val_pred=w_0+x_val.dot(w)\n",
        "print('rmse_val:', Rmse(y_val,y_val_pred))\n"
      ],
      "metadata": {
        "colab": {
          "base_uri": "https://localhost:8080/"
        },
        "id": "mMTNCNz9GB1l",
        "outputId": "a12134f8-4bb1-443f-e5d8-ee0cf24cebbe"
      },
      "execution_count": 170,
      "outputs": [
        {
          "output_type": "stream",
          "name": "stdout",
          "text": [
            "rmse_train: 62.89563285196422\n",
            "rmse_val: 62.0427481026929\n"
          ]
        }
      ]
    },
    {
      "cell_type": "code",
      "source": [
        "w.astype(int)"
      ],
      "metadata": {
        "colab": {
          "base_uri": "https://localhost:8080/"
        },
        "id": "ja4d3WTSGf_1",
        "outputId": "1a9f340a-e1d7-4fbc-dd81-8cdb2a906c7b"
      },
      "execution_count": 171,
      "outputs": [
        {
          "output_type": "execute_result",
          "data": {
            "text/plain": [
              "array([   0,  -10,   -1,   -1,    0,    0,   93,   66,   79,   15,   21,\n",
              "        -61,   11,   -4, -175, -139, -140, -216,  -77, -122,   15,  686,\n",
              "        621,  557,  653,    0,    0,    0,    0,    0])"
            ]
          },
          "metadata": {},
          "execution_count": 171
        }
      ]
    },
    {
      "cell_type": "markdown",
      "source": [
        "the error is increased suddenly cause of overfitting so we will use regularization term in the equation of parameters\n"
      ],
      "metadata": {
        "id": "F6QsTyRtGIj5"
      }
    },
    {
      "cell_type": "code",
      "source": [
        "def train_model(X,Y,r=0.0):\n",
        "  ones=np.ones(X.shape[0])\n",
        "  X=np.column_stack([ones,X])\n",
        "  XTX=X.T.dot(X)\n",
        "  reg=r*(np.eye(XTX.shape[0]))\n",
        "  XTX=XTX+reg\n",
        "  X_INV=np.linalg.inv(XTX)\n",
        "  w=X_INV.dot(X.T.dot(Y))\n",
        "  w_0=w[0]\n",
        "  w=w[1:]\n",
        "  return w_0,w"
      ],
      "metadata": {
        "id": "Gyom4Us0GGec"
      },
      "execution_count": 178,
      "outputs": []
    },
    {
      "cell_type": "code",
      "source": [
        "x_train=handle_missing_value(_train)\n"
      ],
      "metadata": {
        "id": "mGNNMLSbKgKN"
      },
      "execution_count": 176,
      "outputs": []
    },
    {
      "cell_type": "code",
      "source": [
        "# check differents values of r\n",
        "for r in [0, 0.001, 0.01, 0.1, 1, 10]:\n",
        "  w_0,w=train_model(x_train,y_train,r=r)\n",
        "  print('%s, %.2f, %.2f, %.2f' % (r, w_0, w[13], w[21]))\n",
        "\n",
        "\n"
      ],
      "metadata": {
        "colab": {
          "base_uri": "https://localhost:8080/"
        },
        "id": "dJ3TUOJgKkNi",
        "outputId": "1ba95944-0279-4adb-c58b-cb4a924327c0"
      },
      "execution_count": 182,
      "outputs": [
        {
          "output_type": "stream",
          "name": "stdout",
          "text": [
            "0, -358.28, -4.07, 686.40\n",
            "0.001, 8.86, -0.15, 2.24\n",
            "0.01, 8.84, -0.15, 2.23\n",
            "0.1, 8.67, -0.15, 2.19\n",
            "1, 7.52, -0.14, 1.89\n",
            "10, 5.16, -0.14, 1.27\n"
          ]
        }
      ]
    },
    {
      "cell_type": "markdown",
      "source": [
        "TO make sure about the values we will check the Rmse"
      ],
      "metadata": {
        "id": "sW60Hl7bLknO"
      }
    },
    {
      "cell_type": "code",
      "source": [
        "x_train=handle_missing_value(_train)\n",
        "x_val=handle_missing_value(_val)\n",
        "\n",
        "for r in [0, 0.001, 0.01, 0.1, 1, 10]:\n",
        "  w_0,w=train_model(x_train,y_train,r=r)\n",
        "  y_pred = w_0 + x_train.dot(w)\n",
        "  y_val_pred=w_0+x_val.dot(w)\n",
        "  print('r=','%6s' %r,'train:', Rmse(y_train,y_pred))\n",
        "  print('r=','%6s' %r,'val:', Rmse(y_val,y_val_pred))\n",
        "  print(\"######################\")"
      ],
      "metadata": {
        "colab": {
          "base_uri": "https://localhost:8080/"
        },
        "id": "_w7RfDRELFMr",
        "outputId": "649a0821-235a-436c-e6a9-cd0876f3fc2b"
      },
      "execution_count": 186,
      "outputs": [
        {
          "output_type": "stream",
          "name": "stdout",
          "text": [
            "r=      0 train: 62.89563285196422\n",
            "r=      0 val: 62.0427481026929\n",
            "######################\n",
            "r=  0.001 train: 0.4715259408253478\n",
            "r=  0.001 val: 0.46315357175917515\n",
            "######################\n",
            "r=   0.01 train: 0.47152636218072347\n",
            "r=   0.01 val: 0.4631708785733699\n",
            "######################\n",
            "r=    0.1 train: 0.47156410868062015\n",
            "r=    0.1 val: 0.46334596633720837\n",
            "######################\n",
            "r=      1 train: 0.4732380975533829\n",
            "r=      1 val: 0.46516443076732666\n",
            "######################\n",
            "r=     10 train: 0.4887815894656292\n",
            "r=     10 val: 0.48080296646417203\n",
            "######################\n"
          ]
        }
      ]
    },
    {
      "cell_type": "markdown",
      "source": [
        "from above values we will choose r= 0.01"
      ],
      "metadata": {
        "id": "WM_6QaVuN3V6"
      }
    },
    {
      "cell_type": "code",
      "source": [
        "x_train=handle_missing_value(_train)\n",
        "x_val=handle_missing_value(_val)\n",
        "x_test=handle_missing_value(_test)\n",
        "w_0,w=train_model(x_train,y_train,r=0.01)\n",
        "y_pred = w_0 + x_train.dot(w)\n",
        "y_val_pred=w_0+x_val.dot(w)\n",
        "test_pred=w_0+x_test.dot(w)\n",
        "print('Train:', Rmse(y_train,y_pred))\n",
        "print('validation:', Rmse(y_val,y_val_pred))\n",
        "print('test:', Rmse(y_test,test_pred))\n",
        "\n",
        "\n"
      ],
      "metadata": {
        "colab": {
          "base_uri": "https://localhost:8080/"
        },
        "id": "KRo1aQ_7Nh4h",
        "outputId": "c779c7b2-2588-484f-e5ac-83ca827ba5a5"
      },
      "execution_count": 197,
      "outputs": [
        {
          "output_type": "stream",
          "name": "stdout",
          "text": [
            "Train: 0.47152636218072347\n",
            "validation: 0.4631708785733699\n",
            "test: 0.4592790847791518\n"
          ]
        }
      ]
    },
    {
      "cell_type": "markdown",
      "source": [
        "Using the model\n"
      ],
      "metadata": {
        "id": "TFjDMA0UPQma"
      }
    },
    {
      "cell_type": "code",
      "source": [
        "i = 25\n",
        "ex = df_test.iloc[i].to_dict()\n",
        "ex"
      ],
      "metadata": {
        "colab": {
          "base_uri": "https://localhost:8080/"
        },
        "id": "nqkDKyOYPFcr",
        "outputId": "63219abe-8d9d-4021-8d01-1f169e256d56"
      },
      "execution_count": 198,
      "outputs": [
        {
          "output_type": "execute_result",
          "data": {
            "text/plain": [
              "{'city_mpg': 20,\n",
              " 'driven_wheels': 'front_wheel_drive',\n",
              " 'engine_cylinders': 4.0,\n",
              " 'engine_fuel_type': 'regular_unleaded',\n",
              " 'engine_hp': 181.0,\n",
              " 'highway_mpg': 26,\n",
              " 'log_price': 10.367567420904209,\n",
              " 'make': 'toyota',\n",
              " 'market_category': 'crossover',\n",
              " 'model': 'venza',\n",
              " 'number_of_doors': 4.0,\n",
              " 'popularity': 2031,\n",
              " 'price': 31810,\n",
              " 'transmission_type': 'automatic',\n",
              " 'vehicle_size': 'midsize',\n",
              " 'vehicle_style': 'wagon',\n",
              " 'year': 2014}"
            ]
          },
          "metadata": {},
          "execution_count": 198
        }
      ]
    },
    {
      "cell_type": "code",
      "source": [
        "X_test = handle_missing_value(pd.DataFrame([ex]))\n",
        "y_pred = w_0 + X_test.dot(w)\n",
        "suggestion_price = np.expm1(y_pred) # convert the log value of price into orignal value\n",
        "suggestion_price"
      ],
      "metadata": {
        "colab": {
          "base_uri": "https://localhost:8080/"
        },
        "id": "OgXhoUvlPZdE",
        "outputId": "da79e5b1-a8a9-4d8b-b56d-4f135c1319b8"
      },
      "execution_count": 199,
      "outputs": [
        {
          "output_type": "execute_result",
          "data": {
            "text/plain": [
              "array([21199.19744732])"
            ]
          },
          "metadata": {},
          "execution_count": 199
        }
      ]
    },
    {
      "cell_type": "code",
      "source": [
        ""
      ],
      "metadata": {
        "id": "u3hx94xoP9Mh"
      },
      "execution_count": 199,
      "outputs": []
    }
  ]
}